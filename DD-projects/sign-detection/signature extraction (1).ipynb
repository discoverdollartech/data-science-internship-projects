{
 "cells": [
  {
   "cell_type": "code",
   "execution_count": null,
   "id": "87ba04ad",
   "metadata": {},
   "outputs": [],
   "source": [
    "import json\n",
    "from elasticsearch import Elasticsearch\n",
    "from credentials import auth\n",
    "from elasticsearch.helpers import scan\n",
    "from elasticsearch_dsl import Search, Q"
   ]
  },
  {
   "cell_type": "code",
   "execution_count": null,
   "id": "30824a6d",
   "metadata": {},
   "outputs": [],
   "source": [
    "u,p=auth()\n",
    "hosts =\"https://ctesm1.discoverdollar.com:41532/\"\n",
    "es = Elasticsearch(hosts,  timeout=60000, use_ssl=True, verify_certs=False, \n",
    "ssl_show_warn=False, raise_on_error=False,http_auth=(u,p))"
   ]
  },
  {
   "cell_type": "code",
   "execution_count": null,
   "id": "7588c0d6",
   "metadata": {},
   "outputs": [],
   "source": [
    "index=\"cantire-2020-06\"\n",
    "body={\"size\":1000,\n",
    "      \"query\":{\n",
    "    \"match_phrase\":{\n",
    "    \"fileType\": \"Message/Email File\"\n",
    "    }}\n",
    "}\n",
    "res=es.search(index=index,body=body)"
   ]
  },
  {
   "cell_type": "code",
   "execution_count": 1,
   "id": "fa895937",
   "metadata": {},
   "outputs": [],
   "source": [
    "import re\n",
    "import json\n",
    "import spacy\n",
    "from spacy import displacy\n",
    "nlp = spacy.load(\"en_core_web_trf\")\n",
    "\n",
    "\n",
    "REPLACE_BY_SPACE_RE = re.compile('[/(){}\\[\\]\\|_\\-\\–<>;:]')\n",
    "emails=re.compile('[\\w.+-]+@[\\w-]+\\.[\\w.-]+')\n",
    "anchor=re.compile(\"<[^ ]*>\")\n",
    "cid=re.compile(\"cid[^ ]*\")\n",
    "sqbrac=re.compile('\\[[^ ]*\\]')\n",
    "has=re.compile(\"#[0-9a-bA-B]*\")\n",
    "def prepare_text(text):\n",
    "    #text = text.lower()\n",
    "    text=anchor.sub(\" \",text)\n",
    "    text=sqbrac.sub(\" \",text)\n",
    "    text=has.sub(\" \",text)\n",
    "    text=cid.sub(\" \",text)\n",
    "    text = REPLACE_BY_SPACE_RE.sub(' ', text)\n",
    "    text=\" \".join(text.split())\n",
    "    return text\n",
    "def get_35(t):\n",
    "    k=t.split()\n",
    "    if len(k)<=35:\n",
    "        return t\n",
    "    else:\n",
    "        return \" \".join(k[len(k)-35:])\n",
    "\n",
    "def get_name(l):\n",
    "    if len(l)>1:\n",
    "        l=l[1:]\n",
    "    names=[]\n",
    "    for i in l:\n",
    "        r=re.search(r'[\\w.+-]+@[\\w-]+\\.[\\w.-]+',i if len(i)<100 else i[:100])\n",
    "        if r:\n",
    "            name=i[:r.start()]\n",
    "            REPLACE_BY_SPACE_RE = re.compile('[/(){}\\[\\]\\|\\-\\–<>;:]')\n",
    "            name = REPLACE_BY_SPACE_RE.sub(' ', name)\n",
    "            names.append(name)\n",
    "            \n",
    "        else:\n",
    "            names.append(\"no-info\")"
   ]
  },
  {
   "cell_type": "code",
   "execution_count": null,
   "id": "b4448bd0",
   "metadata": {},
   "outputs": [],
   "source": [
    "for i in range(1000):\n",
    "        d=dict()\n",
    "        content=res['hits']['hits'][i]['_source']['content']\n",
    "        content.encode(\"ascii\", \"replace\")\n",
    "        text=\" \".join(content.split())\n",
    "        l=re.split(\"From:\",text)\n",
    "        l=[i.strip() for i in l]\n",
    "        names=get_names(l)\n",
    "        l=[prepare_text(i) for i in l]\n",
    "        l=[get_35(i) for i in l]\n",
    "    \n",
    "        for i in len(l):\n",
    "            s=l[i]\n",
    "            d=dict()\n",
    "            person=[]\n",
    "            org=[]\n",
    "            doc=nlp(s)\n",
    "            num=[]\n",
    "            for ent in doc.ents:\n",
    "                if ent.label_==\"PERSON\":\n",
    "                    person.append((ent.start_char, ent.end_char))\n",
    "                elif ent.label_==\"ORG\":\n",
    "                    org.append((ent.start_char, ent.end_char))\n",
    "               \n",
    "                \n",
    "            if person:\n",
    "                for j in range(len(org)):\n",
    "                    if org[j][0]>person[-1][1]:\n",
    "                        org=org[j:]\n",
    "                        break\n",
    "                else:\n",
    "                    org=[]\n",
    "               \n",
    "                cardinals=re.findall('\\d{3}[\\. ]?\\d{3}[\\. ]?\\d{4}|\\d{2} \\d{8}',s[person[-1][0]:])\n",
    "                if cardinals:\n",
    "                    ind=s.index(cardinals[0])\n",
    "                    d['Name']=s[person[-1][0]:person[-1][1]+1]\n",
    "                    if org:\n",
    "                        d['Designation']=s[person[-1][1]+1:org[0][0]]\n",
    "                        d['orgs']=s[org[0][0]:ind]\n",
    "                    else:\n",
    "                        d['org']=s[person[-1][0]:ind]\n",
    "                    d['Contacts']=cardinals\n",
    "            \n",
    "            if d :           \n",
    "                print(d)\n",
    "            else:\n",
    "                print(names[i])"
   ]
  },
  {
   "cell_type": "code",
   "execution_count": null,
   "id": "0214fe0f",
   "metadata": {},
   "outputs": [],
   "source": []
  },
  {
   "cell_type": "code",
   "execution_count": null,
   "id": "c4f9831c",
   "metadata": {},
   "outputs": [],
   "source": []
  },
  {
   "cell_type": "code",
   "execution_count": null,
   "id": "c585dfc4",
   "metadata": {},
   "outputs": [],
   "source": []
  },
  {
   "cell_type": "code",
   "execution_count": null,
   "id": "8e4f756a",
   "metadata": {},
   "outputs": [],
   "source": []
  },
  {
   "cell_type": "code",
   "execution_count": null,
   "id": "bba68b29",
   "metadata": {},
   "outputs": [],
   "source": []
  },
  {
   "cell_type": "code",
   "execution_count": null,
   "id": "6e99aedb",
   "metadata": {},
   "outputs": [],
   "source": []
  },
  {
   "cell_type": "code",
   "execution_count": null,
   "id": "48f8c99e",
   "metadata": {},
   "outputs": [],
   "source": []
  }
 ],
 "metadata": {
  "kernelspec": {
   "display_name": "Python 3 (ipykernel)",
   "language": "python",
   "name": "python3"
  },
  "language_info": {
   "codemirror_mode": {
    "name": "ipython",
    "version": 3
   },
   "file_extension": ".py",
   "mimetype": "text/x-python",
   "name": "python",
   "nbconvert_exporter": "python",
   "pygments_lexer": "ipython3",
   "version": "3.9.7"
  }
 },
 "nbformat": 4,
 "nbformat_minor": 5
}
