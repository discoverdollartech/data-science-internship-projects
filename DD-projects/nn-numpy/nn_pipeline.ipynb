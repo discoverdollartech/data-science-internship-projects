{
 "cells": [
  {
   "cell_type": "code",
   "execution_count": 1,
   "metadata": {
    "id": "BhaCu_Sl2Ckf"
   },
   "outputs": [],
   "source": [
    "import tensorflow as tf"
   ]
  },
  {
   "cell_type": "code",
   "execution_count": 2,
   "metadata": {
    "colab": {
     "base_uri": "https://localhost:8080/"
    },
    "id": "B5WECV7z2GqJ",
    "outputId": "85b31be7-3101-40aa-fa29-8c81c09521e7"
   },
   "outputs": [
    {
     "name": "stdout",
     "output_type": "stream",
     "text": [
      "tf.Tensor([[4.]], shape=(1, 1), dtype=float32)\n"
     ]
    }
   ],
   "source": [
    "x=tf.constant(4,shape=(1,1),dtype=tf.float32)\n",
    "print(x)"
   ]
  },
  {
   "cell_type": "code",
   "execution_count": 3,
   "metadata": {
    "colab": {
     "base_uri": "https://localhost:8080/"
    },
    "id": "SSBa6s0I26Vf",
    "outputId": "582feba2-b24b-4dfb-e4b0-6ee49b5adfff"
   },
   "outputs": [
    {
     "data": {
      "text/plain": [
       "<tf.Tensor: shape=(2, 3), dtype=int32, numpy=\n",
       "array([[1, 2, 3],\n",
       "       [1, 2, 3]], dtype=int32)>"
      ]
     },
     "execution_count": 3,
     "metadata": {},
     "output_type": "execute_result"
    }
   ],
   "source": [
    "tf.constant([[1,2,3],\n",
    "             [1,2,3]])"
   ]
  },
  {
   "cell_type": "code",
   "execution_count": 4,
   "metadata": {
    "colab": {
     "base_uri": "https://localhost:8080/"
    },
    "id": "HwDd-qc43RmQ",
    "outputId": "82a80f09-0e45-4aae-bdbc-e26845bb3064"
   },
   "outputs": [
    {
     "data": {
      "text/plain": [
       "<tf.Tensor: shape=(3, 3), dtype=float32, numpy=\n",
       "array([[1., 1., 1.],\n",
       "       [1., 1., 1.],\n",
       "       [1., 1., 1.]], dtype=float32)>"
      ]
     },
     "execution_count": 4,
     "metadata": {},
     "output_type": "execute_result"
    }
   ],
   "source": [
    "tf.ones((3,3))"
   ]
  },
  {
   "cell_type": "code",
   "execution_count": 5,
   "metadata": {
    "colab": {
     "base_uri": "https://localhost:8080/"
    },
    "id": "_aygrBXT3V0S",
    "outputId": "e07c577f-6272-4f4b-e028-96ed760e4a54"
   },
   "outputs": [
    {
     "data": {
      "text/plain": [
       "<tf.Tensor: shape=(2, 3), dtype=float32, numpy=\n",
       "array([[0., 0., 0.],\n",
       "       [0., 0., 0.]], dtype=float32)>"
      ]
     },
     "execution_count": 5,
     "metadata": {},
     "output_type": "execute_result"
    }
   ],
   "source": [
    "tf.zeros((2,3))"
   ]
  },
  {
   "cell_type": "code",
   "execution_count": 6,
   "metadata": {
    "colab": {
     "base_uri": "https://localhost:8080/"
    },
    "id": "dSRwNTyM3Zrz",
    "outputId": "4e6281d1-9ba1-4654-d81c-07735b848a20"
   },
   "outputs": [
    {
     "data": {
      "text/plain": [
       "<tf.Tensor: shape=(4, 4), dtype=float32, numpy=\n",
       "array([[1., 0., 0., 0.],\n",
       "       [0., 1., 0., 0.],\n",
       "       [0., 0., 1., 0.],\n",
       "       [0., 0., 0., 1.]], dtype=float32)>"
      ]
     },
     "execution_count": 6,
     "metadata": {},
     "output_type": "execute_result"
    }
   ],
   "source": [
    "tf.eye(4)"
   ]
  },
  {
   "cell_type": "code",
   "execution_count": 7,
   "metadata": {
    "colab": {
     "base_uri": "https://localhost:8080/"
    },
    "id": "rdnx-0q33ct5",
    "outputId": "d8440a04-8bf5-4185-b8d2-3d4272163141"
   },
   "outputs": [
    {
     "data": {
      "text/plain": [
       "<tf.Tensor: shape=(3, 3), dtype=float32, numpy=\n",
       "array([[-1.1156448 , -0.62507373, -0.5981605 ],\n",
       "       [-2.566133  , -0.64895356,  0.27796268],\n",
       "       [-0.8523964 , -0.22502908, -1.0913514 ]], dtype=float32)>"
      ]
     },
     "execution_count": 7,
     "metadata": {},
     "output_type": "execute_result"
    }
   ],
   "source": [
    "tf.random.normal((3,3))"
   ]
  },
  {
   "cell_type": "code",
   "execution_count": 8,
   "metadata": {
    "colab": {
     "base_uri": "https://localhost:8080/"
    },
    "id": "zS-3oojr3pbB",
    "outputId": "b4043e02-f626-45a9-f485-83ce2ad84d2b"
   },
   "outputs": [
    {
     "data": {
      "text/plain": [
       "<tf.Tensor: shape=(2, 3), dtype=float32, numpy=\n",
       "array([[0.8044375 , 0.47680616, 0.05447996],\n",
       "       [0.8886324 , 0.2528597 , 0.14465177]], dtype=float32)>"
      ]
     },
     "execution_count": 8,
     "metadata": {},
     "output_type": "execute_result"
    }
   ],
   "source": [
    "tf.random.uniform((2,3))"
   ]
  },
  {
   "cell_type": "code",
   "execution_count": 9,
   "metadata": {
    "colab": {
     "base_uri": "https://localhost:8080/"
    },
    "id": "hyIZXeoE3wvW",
    "outputId": "f5970897-608c-48c0-f123-99a169e3deea"
   },
   "outputs": [
    {
     "data": {
      "text/plain": [
       "<tf.Tensor: shape=(5,), dtype=int32, numpy=array([1, 3, 5, 7, 9], dtype=int32)>"
      ]
     },
     "execution_count": 9,
     "metadata": {},
     "output_type": "execute_result"
    }
   ],
   "source": [
    "tf.range(start=1,limit=10,delta=2)"
   ]
  },
  {
   "cell_type": "code",
   "execution_count": 10,
   "metadata": {
    "colab": {
     "base_uri": "https://localhost:8080/"
    },
    "id": "XH4yAW_0393R",
    "outputId": "1b08bf05-e8e0-4731-8106-ef3692979f8e"
   },
   "outputs": [
    {
     "data": {
      "text/plain": [
       "<tf.Tensor: shape=(5,), dtype=float64, numpy=array([1., 3., 5., 7., 9.])>"
      ]
     },
     "execution_count": 10,
     "metadata": {},
     "output_type": "execute_result"
    }
   ],
   "source": [
    "x=tf.range(start=1,limit=10,delta=2)\n",
    "tf.cast(x,dtype=tf.float64)"
   ]
  },
  {
   "cell_type": "code",
   "execution_count": 11,
   "metadata": {
    "id": "0bs8cRx74ODI"
   },
   "outputs": [],
   "source": [
    "x=tf.constant([1,2,3])\n",
    "y=tf.constant([9,8,7])"
   ]
  },
  {
   "cell_type": "code",
   "execution_count": 12,
   "metadata": {
    "colab": {
     "base_uri": "https://localhost:8080/"
    },
    "id": "VNwgeEHq4d7I",
    "outputId": "37c82ad3-5b30-434b-b8c2-598278c4d578"
   },
   "outputs": [
    {
     "data": {
      "text/plain": [
       "<tf.Tensor: shape=(3,), dtype=int32, numpy=array([10, 10, 10], dtype=int32)>"
      ]
     },
     "execution_count": 12,
     "metadata": {},
     "output_type": "execute_result"
    }
   ],
   "source": [
    "x+y"
   ]
  },
  {
   "cell_type": "code",
   "execution_count": 13,
   "metadata": {
    "colab": {
     "base_uri": "https://localhost:8080/"
    },
    "id": "bOu23JGU4fP8",
    "outputId": "ec4bf8db-a549-4896-e92c-3546ffd1bbda"
   },
   "outputs": [
    {
     "data": {
      "text/plain": [
       "<tf.Tensor: shape=(3,), dtype=int32, numpy=array([10, 10, 10], dtype=int32)>"
      ]
     },
     "execution_count": 13,
     "metadata": {},
     "output_type": "execute_result"
    }
   ],
   "source": [
    "z=tf.add(x,y)\n",
    "z"
   ]
  },
  {
   "cell_type": "code",
   "execution_count": 14,
   "metadata": {
    "colab": {
     "base_uri": "https://localhost:8080/"
    },
    "id": "4CsqP5QA4jaa",
    "outputId": "0af4cf2d-8be1-4fba-ef6d-8b0f9d6a3f91"
   },
   "outputs": [
    {
     "data": {
      "text/plain": [
       "<tf.Tensor: shape=(3,), dtype=int32, numpy=array([-8, -6, -4], dtype=int32)>"
      ]
     },
     "execution_count": 14,
     "metadata": {},
     "output_type": "execute_result"
    }
   ],
   "source": [
    "x-y"
   ]
  },
  {
   "cell_type": "code",
   "execution_count": 15,
   "metadata": {
    "colab": {
     "base_uri": "https://localhost:8080/"
    },
    "id": "2BJYgtMJ4p4d",
    "outputId": "5630e1ab-3348-44d4-8c93-3a06910ba979"
   },
   "outputs": [
    {
     "data": {
      "text/plain": [
       "<tf.Tensor: shape=(3,), dtype=float64, numpy=array([0.11111111, 0.25      , 0.42857143])>"
      ]
     },
     "execution_count": 15,
     "metadata": {},
     "output_type": "execute_result"
    }
   ],
   "source": [
    "x/y"
   ]
  },
  {
   "cell_type": "code",
   "execution_count": 16,
   "metadata": {
    "colab": {
     "base_uri": "https://localhost:8080/"
    },
    "id": "P7XsinDj4q4N",
    "outputId": "2e67e9e4-de2d-4ff9-eb08-5895f440210b"
   },
   "outputs": [
    {
     "data": {
      "text/plain": [
       "<tf.Tensor: shape=(3,), dtype=int32, numpy=array([ 9, 16, 21], dtype=int32)>"
      ]
     },
     "execution_count": 16,
     "metadata": {},
     "output_type": "execute_result"
    }
   ],
   "source": [
    "x*y"
   ]
  },
  {
   "cell_type": "code",
   "execution_count": 17,
   "metadata": {
    "colab": {
     "base_uri": "https://localhost:8080/"
    },
    "id": "vYL02kiS4r9z",
    "outputId": "2ddb9324-6e1b-4438-8b6a-4d0dd63526bc"
   },
   "outputs": [
    {
     "name": "stdout",
     "output_type": "stream",
     "text": [
      "tf.Tensor(46, shape=(), dtype=int32)\n"
     ]
    }
   ],
   "source": [
    "z=tf.tensordot(x,y,axes=1)\n",
    "print(z)"
   ]
  },
  {
   "cell_type": "code",
   "execution_count": 18,
   "metadata": {
    "colab": {
     "base_uri": "https://localhost:8080/"
    },
    "id": "-Br8OruN42vM",
    "outputId": "472a9fd5-8875-435e-817e-97cc2caef4c3"
   },
   "outputs": [
    {
     "data": {
      "text/plain": [
       "<tf.Tensor: shape=(), dtype=int32, numpy=46>"
      ]
     },
     "execution_count": 18,
     "metadata": {},
     "output_type": "execute_result"
    }
   ],
   "source": [
    "tf.reduce_sum(x*y)"
   ]
  },
  {
   "cell_type": "code",
   "execution_count": 19,
   "metadata": {
    "id": "u3_mWb_b5Q-e"
   },
   "outputs": [],
   "source": [
    "x=tf.random.normal((2,3))\n",
    "y=tf.random.normal((3,4))"
   ]
  },
  {
   "cell_type": "code",
   "execution_count": 20,
   "metadata": {
    "colab": {
     "base_uri": "https://localhost:8080/"
    },
    "id": "O_muMDFn5ja4",
    "outputId": "e818bc41-6fd8-4cdc-be27-cd0f0f799513"
   },
   "outputs": [
    {
     "data": {
      "text/plain": [
       "<tf.Tensor: shape=(2, 4), dtype=float32, numpy=\n",
       "array([[-2.21087   ,  0.6823341 ,  0.6068389 ,  1.9848208 ],\n",
       "       [ 1.7777061 , -0.91488826,  0.8237328 , -0.74078006]],\n",
       "      dtype=float32)>"
      ]
     },
     "execution_count": 20,
     "metadata": {},
     "output_type": "execute_result"
    }
   ],
   "source": [
    "tf.matmul(x,y)"
   ]
  },
  {
   "cell_type": "code",
   "execution_count": 21,
   "metadata": {
    "colab": {
     "base_uri": "https://localhost:8080/"
    },
    "id": "HQNmBNTw5mKU",
    "outputId": "da2006a5-b86d-4399-ea3b-f2918044c77a"
   },
   "outputs": [
    {
     "data": {
      "text/plain": [
       "<tf.Tensor: shape=(2, 4), dtype=float32, numpy=\n",
       "array([[-2.21087   ,  0.6823341 ,  0.6068389 ,  1.9848208 ],\n",
       "       [ 1.7777061 , -0.91488826,  0.8237328 , -0.74078006]],\n",
       "      dtype=float32)>"
      ]
     },
     "execution_count": 21,
     "metadata": {},
     "output_type": "execute_result"
    }
   ],
   "source": [
    "x@y"
   ]
  },
  {
   "cell_type": "code",
   "execution_count": 22,
   "metadata": {
    "id": "Jn1GTwm75ov5"
   },
   "outputs": [],
   "source": [
    "x=tf.range(9)"
   ]
  },
  {
   "cell_type": "code",
   "execution_count": 23,
   "metadata": {
    "id": "rzfXYwCt6B9S"
   },
   "outputs": [],
   "source": [
    "x=tf.reshape(x,(3,3))"
   ]
  },
  {
   "cell_type": "code",
   "execution_count": 24,
   "metadata": {
    "colab": {
     "base_uri": "https://localhost:8080/"
    },
    "id": "vnIoeEGP6HLo",
    "outputId": "56100c4f-f6ce-4e3f-d43e-7d9b835cd1cc"
   },
   "outputs": [
    {
     "data": {
      "text/plain": [
       "<tf.Tensor: shape=(3, 3), dtype=int32, numpy=\n",
       "array([[0, 1, 2],\n",
       "       [3, 4, 5],\n",
       "       [6, 7, 8]], dtype=int32)>"
      ]
     },
     "execution_count": 24,
     "metadata": {},
     "output_type": "execute_result"
    }
   ],
   "source": [
    "x"
   ]
  },
  {
   "cell_type": "code",
   "execution_count": 25,
   "metadata": {
    "colab": {
     "base_uri": "https://localhost:8080/"
    },
    "id": "Bmlo5Ykp6HdK",
    "outputId": "542d7455-df01-4c57-9fa9-3459f5bd909b"
   },
   "outputs": [
    {
     "data": {
      "text/plain": [
       "<tf.Tensor: shape=(3, 3), dtype=int32, numpy=\n",
       "array([[0, 3, 6],\n",
       "       [1, 4, 7],\n",
       "       [2, 5, 8]], dtype=int32)>"
      ]
     },
     "execution_count": 25,
     "metadata": {},
     "output_type": "execute_result"
    }
   ],
   "source": [
    "tf.transpose(x)"
   ]
  },
  {
   "cell_type": "code",
   "execution_count": 26,
   "metadata": {
    "id": "I_U3UeES6MG0"
   },
   "outputs": [],
   "source": [
    "# Neural Network"
   ]
  },
  {
   "cell_type": "markdown",
   "metadata": {
    "id": "Ilqrc-px0mBQ"
   },
   "source": [
    "# Neural Network"
   ]
  },
  {
   "cell_type": "code",
   "execution_count": 27,
   "metadata": {
    "id": "ttyjsLDx0jM5"
   },
   "outputs": [],
   "source": [
    "import tensorflow as tf\n",
    "from tensorflow import keras\n",
    "from tensorflow.keras import layers\n",
    "from tensorflow.keras.datasets import mnist"
   ]
  },
  {
   "cell_type": "code",
   "execution_count": 28,
   "metadata": {
    "colab": {
     "base_uri": "https://localhost:8080/"
    },
    "id": "wn7n-RvW078h",
    "outputId": "02f29efb-7970-4e0c-e3b8-0e1389a24157"
   },
   "outputs": [
    {
     "name": "stdout",
     "output_type": "stream",
     "text": [
      "Downloading data from https://storage.googleapis.com/tensorflow/tf-keras-datasets/mnist.npz\n",
      "11493376/11490434 [==============================] - 0s 0us/step\n",
      "11501568/11490434 [==============================] - 0s 0us/step\n"
     ]
    }
   ],
   "source": [
    "(x_train,y_train),(x_test,y_test)=mnist.load_data()"
   ]
  },
  {
   "cell_type": "code",
   "execution_count": 29,
   "metadata": {
    "colab": {
     "base_uri": "https://localhost:8080/"
    },
    "id": "S1Y8ht531KJi",
    "outputId": "0a07f501-725c-40fe-e612-69a36b0e9a50"
   },
   "outputs": [
    {
     "data": {
      "text/plain": [
       "(60000, 28, 28)"
      ]
     },
     "execution_count": 29,
     "metadata": {},
     "output_type": "execute_result"
    }
   ],
   "source": [
    "x_train.shape"
   ]
  },
  {
   "cell_type": "code",
   "execution_count": 30,
   "metadata": {
    "colab": {
     "base_uri": "https://localhost:8080/"
    },
    "id": "5NdlrGJ-1OpJ",
    "outputId": "a56b4cbd-ca87-45a9-fba4-f20d6130a98a"
   },
   "outputs": [
    {
     "data": {
      "text/plain": [
       "(60000, 784)"
      ]
     },
     "execution_count": 30,
     "metadata": {},
     "output_type": "execute_result"
    }
   ],
   "source": [
    "x_train=x_train.reshape(-1,28*28).astype(\"float32\")/255\n",
    "x_train.shape"
   ]
  },
  {
   "cell_type": "code",
   "execution_count": 31,
   "metadata": {
    "id": "KVLxB4Jr1ewA"
   },
   "outputs": [],
   "source": [
    "x_test=x_test.reshape(-1,28*28).astype(\"float32\")/255"
   ]
  },
  {
   "cell_type": "code",
   "execution_count": 32,
   "metadata": {
    "id": "mEhU5vBH11Fu"
   },
   "outputs": [],
   "source": [
    "model=keras.Sequential(\n",
    "    [\n",
    "     keras.Input(shape=(28*28)),\n",
    "     layers.Dense(512,activation=\"relu\"),\n",
    "     layers.Dense(256,activation=\"relu\"),\n",
    "     layers.Dense(10)\n",
    "     \n",
    "    ]\n",
    ")"
   ]
  },
  {
   "cell_type": "code",
   "execution_count": 33,
   "metadata": {
    "colab": {
     "base_uri": "https://localhost:8080/"
    },
    "id": "HkI4k7I66Z0k",
    "outputId": "74fd3189-a46d-4be2-cf32-0b83bada6d73"
   },
   "outputs": [
    {
     "name": "stdout",
     "output_type": "stream",
     "text": [
      "Model: \"sequential\"\n",
      "_________________________________________________________________\n",
      " Layer (type)                Output Shape              Param #   \n",
      "=================================================================\n",
      " dense (Dense)               (None, 512)               401920    \n",
      "                                                                 \n",
      " dense_1 (Dense)             (None, 256)               131328    \n",
      "                                                                 \n",
      " dense_2 (Dense)             (None, 10)                2570      \n",
      "                                                                 \n",
      "=================================================================\n",
      "Total params: 535,818\n",
      "Trainable params: 535,818\n",
      "Non-trainable params: 0\n",
      "_________________________________________________________________\n"
     ]
    }
   ],
   "source": [
    "model.summary()"
   ]
  },
  {
   "cell_type": "code",
   "execution_count": 34,
   "metadata": {
    "colab": {
     "base_uri": "https://localhost:8080/"
    },
    "id": "HWjYM7KR2tu6",
    "outputId": "b5af0c0d-8c39-4f92-b89d-1a6280ca13b8"
   },
   "outputs": [
    {
     "name": "stderr",
     "output_type": "stream",
     "text": [
      "/usr/local/lib/python3.7/dist-packages/keras/optimizer_v2/adam.py:105: UserWarning: The `lr` argument is deprecated, use `learning_rate` instead.\n",
      "  super(Adam, self).__init__(name, **kwargs)\n"
     ]
    }
   ],
   "source": [
    "model.compile(\n",
    "    loss=keras.losses.SparseCategoricalCrossentropy(from_logits=True),\n",
    "    optimizer=keras.optimizers.Adam(lr=0.001),\n",
    "    metrics=[\"accuracy\"]\n",
    ")"
   ]
  },
  {
   "cell_type": "code",
   "execution_count": 35,
   "metadata": {
    "colab": {
     "base_uri": "https://localhost:8080/"
    },
    "id": "Qxkp4jVN3Kzl",
    "outputId": "b4b25450-ad7d-4b23-b811-0cd5a0c6e295"
   },
   "outputs": [
    {
     "name": "stdout",
     "output_type": "stream",
     "text": [
      "Epoch 1/5\n",
      "1875/1875 - 10s - loss: 0.1846 - accuracy: 0.9436 - 10s/epoch - 6ms/step\n",
      "Epoch 2/5\n",
      "1875/1875 - 6s - loss: 0.0806 - accuracy: 0.9755 - 6s/epoch - 3ms/step\n",
      "Epoch 3/5\n",
      "1875/1875 - 6s - loss: 0.0569 - accuracy: 0.9822 - 6s/epoch - 3ms/step\n",
      "Epoch 4/5\n",
      "1875/1875 - 4s - loss: 0.0384 - accuracy: 0.9880 - 4s/epoch - 2ms/step\n",
      "Epoch 5/5\n",
      "1875/1875 - 4s - loss: 0.0341 - accuracy: 0.9894 - 4s/epoch - 2ms/step\n"
     ]
    },
    {
     "data": {
      "text/plain": [
       "<keras.callbacks.History at 0x7fcdb0765390>"
      ]
     },
     "execution_count": 35,
     "metadata": {},
     "output_type": "execute_result"
    }
   ],
   "source": [
    "model.fit(x_train,y_train,batch_size=32,epochs=5,verbose=2)"
   ]
  },
  {
   "cell_type": "code",
   "execution_count": 36,
   "metadata": {
    "colab": {
     "base_uri": "https://localhost:8080/"
    },
    "id": "78jE6Rto3Z9j",
    "outputId": "1a6a0721-2c90-497d-af7b-335e219badad"
   },
   "outputs": [
    {
     "name": "stdout",
     "output_type": "stream",
     "text": [
      "313/313 - 1s - loss: 0.0810 - accuracy: 0.9788 - 923ms/epoch - 3ms/step\n"
     ]
    },
    {
     "data": {
      "text/plain": [
       "[0.08103226125240326, 0.9787999987602234]"
      ]
     },
     "execution_count": 36,
     "metadata": {},
     "output_type": "execute_result"
    }
   ],
   "source": [
    "model.evaluate(x_test,y_test,batch_size=32,verbose=2)"
   ]
  },
  {
   "cell_type": "code",
   "execution_count": 37,
   "metadata": {
    "colab": {
     "base_uri": "https://localhost:8080/"
    },
    "id": "Zo0vThbO3qWn",
    "outputId": "bc888770-3328-4785-d3f3-43db9a87ddde"
   },
   "outputs": [
    {
     "name": "stdout",
     "output_type": "stream",
     "text": [
      "Model: \"sequential\"\n",
      "_________________________________________________________________\n",
      " Layer (type)                Output Shape              Param #   \n",
      "=================================================================\n",
      " dense (Dense)               (None, 512)               401920    \n",
      "                                                                 \n",
      " dense_1 (Dense)             (None, 256)               131328    \n",
      "                                                                 \n",
      " dense_2 (Dense)             (None, 10)                2570      \n",
      "                                                                 \n",
      "=================================================================\n",
      "Total params: 535,818\n",
      "Trainable params: 535,818\n",
      "Non-trainable params: 0\n",
      "_________________________________________________________________\n",
      "None\n"
     ]
    }
   ],
   "source": [
    "print(model.summary())"
   ]
  },
  {
   "cell_type": "markdown",
   "metadata": {
    "id": "6LOkj6CBQSLe"
   },
   "source": [
    "## or"
   ]
  },
  {
   "cell_type": "code",
   "execution_count": 38,
   "metadata": {
    "id": "lsabYOFq5ZTA"
   },
   "outputs": [],
   "source": [
    "model=keras.Sequential()\n",
    "model.add(layers.Input(shape=(28*28)))\n",
    "model.add(layers.Dense(512,activation='relu'))\n",
    "model.add(layers.Dense(256,activation='relu'))\n",
    "model.add(layers.Dense(128,activation='relu'))\n",
    "model.add(layers.Dense(10))"
   ]
  },
  {
   "cell_type": "code",
   "execution_count": 39,
   "metadata": {
    "colab": {
     "base_uri": "https://localhost:8080/"
    },
    "id": "1eL2jXb-QZDZ",
    "outputId": "d18d5a66-903a-4037-a26f-3859eaa80c6a"
   },
   "outputs": [
    {
     "name": "stderr",
     "output_type": "stream",
     "text": [
      "/usr/local/lib/python3.7/dist-packages/keras/optimizer_v2/adam.py:105: UserWarning: The `lr` argument is deprecated, use `learning_rate` instead.\n",
      "  super(Adam, self).__init__(name, **kwargs)\n"
     ]
    }
   ],
   "source": [
    "model.compile(\n",
    "    loss=keras.losses.SparseCategoricalCrossentropy(from_logits=True),\n",
    "    optimizer=keras.optimizers.Adam(lr=0.001),\n",
    "    metrics=[\"accuracy\"]\n",
    ")"
   ]
  },
  {
   "cell_type": "code",
   "execution_count": 40,
   "metadata": {
    "colab": {
     "base_uri": "https://localhost:8080/"
    },
    "id": "besFbO3QQ2Mg",
    "outputId": "3945d76b-aea3-48ad-f5fd-2445c5978b32"
   },
   "outputs": [
    {
     "name": "stdout",
     "output_type": "stream",
     "text": [
      "Epoch 1/5\n",
      "1875/1875 - 5s - loss: 0.1960 - accuracy: 0.9420 - 5s/epoch - 3ms/step\n",
      "Epoch 2/5\n",
      "1875/1875 - 5s - loss: 0.0873 - accuracy: 0.9736 - 5s/epoch - 2ms/step\n",
      "Epoch 3/5\n",
      "1875/1875 - 5s - loss: 0.0614 - accuracy: 0.9811 - 5s/epoch - 3ms/step\n",
      "Epoch 4/5\n",
      "1875/1875 - 5s - loss: 0.0472 - accuracy: 0.9848 - 5s/epoch - 3ms/step\n",
      "Epoch 5/5\n",
      "1875/1875 - 5s - loss: 0.0388 - accuracy: 0.9877 - 5s/epoch - 3ms/step\n"
     ]
    },
    {
     "data": {
      "text/plain": [
       "<keras.callbacks.History at 0x7fcdb00bc650>"
      ]
     },
     "execution_count": 40,
     "metadata": {},
     "output_type": "execute_result"
    }
   ],
   "source": [
    "model.fit(x_train,y_train,batch_size=32,epochs=5,verbose=2)\n"
   ]
  },
  {
   "cell_type": "code",
   "execution_count": null,
   "metadata": {
    "id": "VhMkTsBJQ7XF"
   },
   "outputs": [],
   "source": [
    "model.evaluate(x_test,y_test,batch_size=32,verbose=2)"
   ]
  },
  {
   "cell_type": "code",
   "execution_count": null,
   "metadata": {
    "id": "mJqTBFaWRocZ"
   },
   "outputs": [],
   "source": [
    "#Functional API"
   ]
  },
  {
   "cell_type": "markdown",
   "metadata": {
    "id": "D_Z9qq3DSlsN"
   },
   "source": [
    "# Functional API"
   ]
  },
  {
   "cell_type": "code",
   "execution_count": null,
   "metadata": {
    "id": "xAykBjzuSpKw"
   },
   "outputs": [],
   "source": [
    "inputs=keras.Input(shape=(784))\n",
    "hidden=layers.Dense(512, activation=\"relu\")(inputs)\n",
    "hidden=layers.Dense(256, activation=\"relu\")(hidden)\n",
    "output=layers.Dense(10,activation='softmax')(hidden)\n",
    "model= keras.Model(inputs=inputs,outputs=output)"
   ]
  },
  {
   "cell_type": "code",
   "execution_count": null,
   "metadata": {
    "id": "g9ivge_DSyyK"
   },
   "outputs": [],
   "source": [
    "model.compile(\n",
    "    loss=keras.losses.SparseCategoricalCrossentropy(),\n",
    "    optimizer=keras.optimizers.Adam(lr=0.001),\n",
    "    metrics=[\"accuracy\"]\n",
    ")"
   ]
  },
  {
   "cell_type": "code",
   "execution_count": 45,
   "metadata": {
    "colab": {
     "base_uri": "https://localhost:8080/"
    },
    "id": "zg69wUIgVgja",
    "outputId": "ba4c1551-917b-4b40-86d1-4c15b15f2293"
   },
   "outputs": [
    {
     "name": "stdout",
     "output_type": "stream",
     "text": [
      "1875/1875 - 5s - loss: 0.1854 - accuracy: 0.9431 - 5s/epoch - 3ms/step\n",
      "Epoch 2/5\n",
      "1875/1875 - 4s - loss: 0.0803 - accuracy: 0.9754 - 4s/epoch - 2ms/step\n",
      "Epoch 3/5\n",
      "1875/1875 - 4s - loss: 0.0533 - accuracy: 0.9830 - 4s/epoch - 2ms/step\n",
      "Epoch 4/5\n",
      "1875/1875 - 4s - loss: 0.0402 - accuracy: 0.9876 - 4s/epoch - 2ms/step\n",
      "Epoch 5/5\n",
      "1875/1875 - 4s - loss: 0.0342 - accuracy: 0.9887 - 4s/epoch - 2ms/step\n"
     ]
    },
    {
     "data": {
      "text/plain": [
       "<keras.callbacks.History at 0x7fcd449df850>"
      ]
     },
     "execution_count": 45,
     "metadata": {},
     "output_type": "execute_result"
    }
   ],
   "source": [
    "model.fit(x_train,y_train,batch_size=32,epochs=5,verbose=2)"
   ]
  },
  {
   "cell_type": "code",
   "execution_count": 46,
   "metadata": {
    "colab": {
     "base_uri": "https://localhost:8080/"
    },
    "id": "v3cvYHJeVkmC",
    "outputId": "60c08e49-4b90-437b-ae8c-dc4ca927de49"
   },
   "outputs": [
    {
     "name": "stdout",
     "output_type": "stream",
     "text": [
      "313/313 - 1s - loss: 0.0639 - accuracy: 0.9810 - 845ms/epoch - 3ms/step\n"
     ]
    },
    {
     "data": {
      "text/plain": [
       "[0.0639151930809021, 0.9810000061988831]"
      ]
     },
     "execution_count": 46,
     "metadata": {},
     "output_type": "execute_result"
    }
   ],
   "source": [
    "model.evaluate(x_test,y_test,batch_size=32,verbose=2)"
   ]
  },
  {
   "cell_type": "code",
   "execution_count": 47,
   "metadata": {
    "id": "l1a9kNfzVnoT"
   },
   "outputs": [],
   "source": [
    "#convolution"
   ]
  },
  {
   "cell_type": "markdown",
   "metadata": {
    "id": "3yvGa0BOZL-u"
   },
   "source": [
    "# COnvolutional neural network"
   ]
  },
  {
   "cell_type": "code",
   "execution_count": 48,
   "metadata": {
    "id": "CckUFHXtZLN0"
   },
   "outputs": [],
   "source": [
    "import tensorflow as tf\n",
    "from tensorflow import keras\n",
    "from tensorflow.keras import layers \n",
    "from tensorflow.keras.datasets import cifar10"
   ]
  },
  {
   "cell_type": "code",
   "execution_count": 49,
   "metadata": {
    "id": "D2-r-rZkZtSJ"
   },
   "outputs": [],
   "source": [
    "# confirms the gpu\n",
    "#physical_devices=tf.config.list_physical_devices('GPU')\n",
    "#tf.config.experimental.set_memory_growth(physical_devices[0],True)"
   ]
  },
  {
   "cell_type": "code",
   "execution_count": 50,
   "metadata": {
    "colab": {
     "base_uri": "https://localhost:8080/"
    },
    "id": "m2lzaBUQaTLf",
    "outputId": "e5313b56-6973-452d-e7c5-87a9e815fe1a"
   },
   "outputs": [
    {
     "name": "stdout",
     "output_type": "stream",
     "text": [
      "Downloading data from https://www.cs.toronto.edu/~kriz/cifar-10-python.tar.gz\n",
      "170500096/170498071 [==============================] - 6s 0us/step\n",
      "170508288/170498071 [==============================] - 6s 0us/step\n"
     ]
    }
   ],
   "source": [
    "(x_train,y_train),(x_test,y_test)=cifar10.load_data()"
   ]
  },
  {
   "cell_type": "code",
   "execution_count": 51,
   "metadata": {
    "colab": {
     "base_uri": "https://localhost:8080/"
    },
    "id": "pSDxSv1Uapni",
    "outputId": "dcd373f6-8240-4e92-8a9a-9447e5a9c37a"
   },
   "outputs": [
    {
     "data": {
      "text/plain": [
       "(50000, 32, 32, 3)"
      ]
     },
     "execution_count": 51,
     "metadata": {},
     "output_type": "execute_result"
    }
   ],
   "source": [
    "x_train.shape"
   ]
  },
  {
   "cell_type": "code",
   "execution_count": 52,
   "metadata": {
    "id": "5Majkx8xa0ne"
   },
   "outputs": [],
   "source": [
    "x_train=x_train.astype(\"float32\")/255\n",
    "x_test=x_test.astype(\"float32\")/255"
   ]
  },
  {
   "cell_type": "code",
   "execution_count": 53,
   "metadata": {
    "id": "x3ybKEeNbBtn"
   },
   "outputs": [],
   "source": [
    "model=keras.Sequential(\n",
    "    [\n",
    "     keras.layers.InputLayer(input_shape=(32,32,3)),\n",
    "     layers.Conv2D(32,(3,3),padding='valid',activation='relu'),\n",
    "     layers.MaxPool2D(pool_size=(2,2)),\n",
    "     layers.Conv2D(64,3,activation='relu'),\n",
    "     layers.MaxPool2D(),\n",
    "     layers.Conv2D(128,3,activation='relu'),\n",
    "     layers.Flatten(),\n",
    "     layers.Dense(64,activation='relu'),\n",
    "     layers.Dense(10)\n",
    "    ]\n",
    ")"
   ]
  },
  {
   "cell_type": "code",
   "execution_count": 54,
   "metadata": {
    "colab": {
     "base_uri": "https://localhost:8080/"
    },
    "id": "ltIvy9Zsc_Jh",
    "outputId": "ab3d96f3-2375-45cd-bb93-60f959f56164"
   },
   "outputs": [
    {
     "name": "stderr",
     "output_type": "stream",
     "text": [
      "/usr/local/lib/python3.7/dist-packages/keras/optimizer_v2/adam.py:105: UserWarning: The `lr` argument is deprecated, use `learning_rate` instead.\n",
      "  super(Adam, self).__init__(name, **kwargs)\n"
     ]
    }
   ],
   "source": [
    "model.compile(\n",
    "    loss=keras.losses.SparseCategoricalCrossentropy(from_logits=True),\n",
    "    optimizer=keras.optimizers.Adam(lr=3e-4),\n",
    "    metrics=[\"accuracy\"]\n",
    ")"
   ]
  },
  {
   "cell_type": "code",
   "execution_count": 55,
   "metadata": {
    "colab": {
     "base_uri": "https://localhost:8080/"
    },
    "id": "6S6WtijVdJpG",
    "outputId": "8dc1936b-d9e8-400c-f68c-12053f9cf17b"
   },
   "outputs": [
    {
     "name": "stdout",
     "output_type": "stream",
     "text": [
      "Epoch 1/10\n",
      "782/782 - 13s - loss: 1.6757 - accuracy: 0.3882 - 13s/epoch - 16ms/step\n",
      "Epoch 2/10\n",
      "782/782 - 5s - loss: 1.3281 - accuracy: 0.5273 - 5s/epoch - 7ms/step\n",
      "Epoch 3/10\n",
      "782/782 - 5s - loss: 1.2039 - accuracy: 0.5767 - 5s/epoch - 7ms/step\n",
      "Epoch 4/10\n",
      "782/782 - 5s - loss: 1.1071 - accuracy: 0.6125 - 5s/epoch - 7ms/step\n",
      "Epoch 5/10\n",
      "782/782 - 5s - loss: 1.0224 - accuracy: 0.6446 - 5s/epoch - 7ms/step\n",
      "Epoch 6/10\n",
      "782/782 - 5s - loss: 0.9604 - accuracy: 0.6670 - 5s/epoch - 7ms/step\n",
      "Epoch 7/10\n",
      "782/782 - 5s - loss: 0.9143 - accuracy: 0.6840 - 5s/epoch - 7ms/step\n",
      "Epoch 8/10\n",
      "782/782 - 5s - loss: 0.8624 - accuracy: 0.7024 - 5s/epoch - 7ms/step\n",
      "Epoch 9/10\n",
      "782/782 - 5s - loss: 0.8238 - accuracy: 0.7152 - 5s/epoch - 7ms/step\n",
      "Epoch 10/10\n",
      "782/782 - 5s - loss: 0.7855 - accuracy: 0.7289 - 5s/epoch - 7ms/step\n"
     ]
    },
    {
     "data": {
      "text/plain": [
       "<keras.callbacks.History at 0x7fcd44402b10>"
      ]
     },
     "execution_count": 55,
     "metadata": {},
     "output_type": "execute_result"
    }
   ],
   "source": [
    "model.fit(x_train,y_train,batch_size=64,epochs=10,verbose=2)"
   ]
  },
  {
   "cell_type": "code",
   "execution_count": 56,
   "metadata": {
    "colab": {
     "base_uri": "https://localhost:8080/"
    },
    "id": "J75NgBGfdXwt",
    "outputId": "6aa88b21-b37a-49cd-8ab3-9e0117ce5394"
   },
   "outputs": [
    {
     "name": "stdout",
     "output_type": "stream",
     "text": [
      "313/313 - 1s - loss: 0.8716 - accuracy: 0.7012 - 1s/epoch - 4ms/step\n"
     ]
    },
    {
     "data": {
      "text/plain": [
       "[0.8715869188308716, 0.701200008392334]"
      ]
     },
     "execution_count": 56,
     "metadata": {},
     "output_type": "execute_result"
    }
   ],
   "source": [
    "model.evaluate(x_test,y_test,batch_size=32,verbose=2)"
   ]
  },
  {
   "cell_type": "code",
   "execution_count": 57,
   "metadata": {
    "colab": {
     "base_uri": "https://localhost:8080/"
    },
    "id": "-mL0g-i9doO5",
    "outputId": "cd3518d4-93b1-4b3e-c964-0d81f8f7cec1"
   },
   "outputs": [
    {
     "name": "stdout",
     "output_type": "stream",
     "text": [
      "Model: \"sequential_2\"\n",
      "_________________________________________________________________\n",
      " Layer (type)                Output Shape              Param #   \n",
      "=================================================================\n",
      " conv2d (Conv2D)             (None, 30, 30, 32)        896       \n",
      "                                                                 \n",
      " max_pooling2d (MaxPooling2D  (None, 15, 15, 32)       0         \n",
      " )                                                               \n",
      "                                                                 \n",
      " conv2d_1 (Conv2D)           (None, 13, 13, 64)        18496     \n",
      "                                                                 \n",
      " max_pooling2d_1 (MaxPooling  (None, 6, 6, 64)         0         \n",
      " 2D)                                                             \n",
      "                                                                 \n",
      " conv2d_2 (Conv2D)           (None, 4, 4, 128)         73856     \n",
      "                                                                 \n",
      " flatten (Flatten)           (None, 2048)              0         \n",
      "                                                                 \n",
      " dense_10 (Dense)            (None, 64)                131136    \n",
      "                                                                 \n",
      " dense_11 (Dense)            (None, 10)                650       \n",
      "                                                                 \n",
      "=================================================================\n",
      "Total params: 225,034\n",
      "Trainable params: 225,034\n",
      "Non-trainable params: 0\n",
      "_________________________________________________________________\n",
      "None\n"
     ]
    }
   ],
   "source": [
    "print(model.summary())"
   ]
  },
  {
   "cell_type": "code",
   "execution_count": 58,
   "metadata": {
    "id": "qMjY5g4Udqsq"
   },
   "outputs": [],
   "source": [
    "def mymodel():\n",
    "   input = keras.Input(shape=(32,32,3))\n",
    "   h1=layers.Conv2D(32,3)(input)\n",
    "   h1=layers.BatchNormalization()(h1)\n",
    "   h1=keras.activations.relu(h1)\n",
    "   h2=layers.MaxPool2D()(h1)\n",
    "   h3=layers.Conv2D(64,5,padding='same')(h2)\n",
    "   h3=layers.BatchNormalization()(h3)\n",
    "   h3=keras.activations.relu(h3)\n",
    "   h3=layers.Conv2D(128,5,padding='same')(h3)\n",
    "   h3=layers.BatchNormalization()(h3)\n",
    "   h3=keras.activations.relu(h3)\n",
    "   h3=layers.Flatten()(h3)\n",
    "   h4=layers.Dense(64,activation='relu')(h3)\n",
    "   output=layers.Dense(10)(h4)\n",
    "   model=keras.Model(inputs=input,outputs=output)\n",
    "\n",
    "   return model"
   ]
  },
  {
   "cell_type": "code",
   "execution_count": 59,
   "metadata": {
    "id": "pBzaiPh488bY"
   },
   "outputs": [],
   "source": [
    "model=mymodel()\n",
    "model.compile(\n",
    "    loss=keras.losses.SparseCategoricalCrossentropy(from_logits=True),\n",
    "    optimizer=keras.optimizers.Adam(learning_rate=3e-4),\n",
    "    metrics=[\"accuracy\"]\n",
    ")"
   ]
  },
  {
   "cell_type": "code",
   "execution_count": 60,
   "metadata": {
    "colab": {
     "base_uri": "https://localhost:8080/"
    },
    "id": "C13k2CgG9Mdv",
    "outputId": "3b1368f2-f08d-475d-d181-b705cbbec0b4"
   },
   "outputs": [
    {
     "name": "stdout",
     "output_type": "stream",
     "text": [
      "Epoch 1/10\n",
      "782/782 - 13s - loss: 1.4123 - accuracy: 0.5072 - 13s/epoch - 17ms/step\n",
      "Epoch 2/10\n",
      "782/782 - 12s - loss: 0.9226 - accuracy: 0.6785 - 12s/epoch - 15ms/step\n",
      "Epoch 3/10\n",
      "782/782 - 12s - loss: 0.7329 - accuracy: 0.7454 - 12s/epoch - 15ms/step\n",
      "Epoch 4/10\n",
      "782/782 - 12s - loss: 0.6165 - accuracy: 0.7852 - 12s/epoch - 15ms/step\n",
      "Epoch 5/10\n",
      "782/782 - 12s - loss: 0.5141 - accuracy: 0.8222 - 12s/epoch - 15ms/step\n",
      "Epoch 6/10\n",
      "782/782 - 12s - loss: 0.4404 - accuracy: 0.8468 - 12s/epoch - 15ms/step\n",
      "Epoch 7/10\n",
      "782/782 - 12s - loss: 0.3649 - accuracy: 0.8741 - 12s/epoch - 15ms/step\n",
      "Epoch 8/10\n",
      "782/782 - 12s - loss: 0.2968 - accuracy: 0.8983 - 12s/epoch - 15ms/step\n",
      "Epoch 9/10\n",
      "782/782 - 12s - loss: 0.2363 - accuracy: 0.9211 - 12s/epoch - 16ms/step\n",
      "Epoch 10/10\n",
      "782/782 - 12s - loss: 0.1979 - accuracy: 0.9345 - 12s/epoch - 16ms/step\n"
     ]
    },
    {
     "data": {
      "text/plain": [
       "<keras.callbacks.History at 0x7fcd3ef3f3d0>"
      ]
     },
     "execution_count": 60,
     "metadata": {},
     "output_type": "execute_result"
    }
   ],
   "source": [
    "model.fit(x_train,y_train,batch_size=64,epochs=10,verbose=2)"
   ]
  },
  {
   "cell_type": "code",
   "execution_count": 61,
   "metadata": {
    "colab": {
     "base_uri": "https://localhost:8080/"
    },
    "id": "lyh3WuTm-A7S",
    "outputId": "c6a69277-cc2e-4281-b918-ccbf343c49f3"
   },
   "outputs": [
    {
     "name": "stdout",
     "output_type": "stream",
     "text": [
      "313/313 - 2s - loss: 1.0934 - accuracy: 0.6890 - 2s/epoch - 6ms/step\n"
     ]
    },
    {
     "data": {
      "text/plain": [
       "[1.093356966972351, 0.6890000104904175]"
      ]
     },
     "execution_count": 61,
     "metadata": {},
     "output_type": "execute_result"
    }
   ],
   "source": [
    "model.evaluate(x_test,y_test,batch_size=32,verbose=2)"
   ]
  },
  {
   "cell_type": "code",
   "execution_count": 62,
   "metadata": {
    "colab": {
     "base_uri": "https://localhost:8080/"
    },
    "id": "BpQxdrnO-C2l",
    "outputId": "24a8085f-8554-42a1-f1a8-0552d121bc4a"
   },
   "outputs": [
    {
     "name": "stdout",
     "output_type": "stream",
     "text": [
      "Model: \"model_1\"\n",
      "_________________________________________________________________\n",
      " Layer (type)                Output Shape              Param #   \n",
      "=================================================================\n",
      " input_5 (InputLayer)        [(None, 32, 32, 3)]       0         \n",
      "                                                                 \n",
      " conv2d_3 (Conv2D)           (None, 30, 30, 32)        896       \n",
      "                                                                 \n",
      " batch_normalization (BatchN  (None, 30, 30, 32)       128       \n",
      " ormalization)                                                   \n",
      "                                                                 \n",
      " tf.nn.relu (TFOpLambda)     (None, 30, 30, 32)        0         \n",
      "                                                                 \n",
      " max_pooling2d_2 (MaxPooling  (None, 15, 15, 32)       0         \n",
      " 2D)                                                             \n",
      "                                                                 \n",
      " conv2d_4 (Conv2D)           (None, 15, 15, 64)        51264     \n",
      "                                                                 \n",
      " batch_normalization_1 (Batc  (None, 15, 15, 64)       256       \n",
      " hNormalization)                                                 \n",
      "                                                                 \n",
      " tf.nn.relu_1 (TFOpLambda)   (None, 15, 15, 64)        0         \n",
      "                                                                 \n",
      " conv2d_5 (Conv2D)           (None, 15, 15, 128)       204928    \n",
      "                                                                 \n",
      " batch_normalization_2 (Batc  (None, 15, 15, 128)      512       \n",
      " hNormalization)                                                 \n",
      "                                                                 \n",
      " tf.nn.relu_2 (TFOpLambda)   (None, 15, 15, 128)       0         \n",
      "                                                                 \n",
      " flatten_1 (Flatten)         (None, 28800)             0         \n",
      "                                                                 \n",
      " dense_12 (Dense)            (None, 64)                1843264   \n",
      "                                                                 \n",
      " dense_13 (Dense)            (None, 10)                650       \n",
      "                                                                 \n",
      "=================================================================\n",
      "Total params: 2,101,898\n",
      "Trainable params: 2,101,450\n",
      "Non-trainable params: 448\n",
      "_________________________________________________________________\n"
     ]
    }
   ],
   "source": [
    "model.summary()"
   ]
  },
  {
   "cell_type": "markdown",
   "metadata": {
    "id": "lAykM5-7aY3O"
   },
   "source": [
    "## Regularisations"
   ]
  },
  {
   "cell_type": "code",
   "execution_count": 63,
   "metadata": {
    "id": "9sk4LTxCZ2MD"
   },
   "outputs": [],
   "source": [
    "from tensorflow.keras import regularizers\n",
    "\n",
    "def mymodel():\n",
    "   input = keras.Input(shape=(32,32,3))\n",
    "   h1=layers.Conv2D(32,3,\n",
    "                    padding=\"same\",\n",
    "                    kernel_regularizer=regularizers.l2(0.01)\n",
    "                    )(input)\n",
    "   h1=layers.BatchNormalization()(h1)\n",
    "   h1=keras.activations.relu(h1)\n",
    "   h2=layers.MaxPool2D()(h1)\n",
    "   h3=layers.Conv2D(64,5,padding='same',\n",
    "                    kernel_regularizer=regularizers.l2(0.01))(h2)\n",
    "   h3=layers.BatchNormalization()(h3)\n",
    "   h3=keras.activations.relu(h3)\n",
    "   h3=layers.MaxPool2D()(h3)\n",
    "   h3=layers.Conv2D(128,5,padding='same',\n",
    "                    kernel_regularizer=regularizers.l2(0.01))(h3)\n",
    "   h3=layers.BatchNormalization()(h3)\n",
    "   h3=keras.activations.relu(h3)\n",
    "   h3=layers.Flatten()(h3)\n",
    "   h4=layers.Dense(64,activation='relu',\n",
    "                   kernel_regularizer=regularizers.l2(0.01))(h3)\n",
    "   h4=layers.Dropout(0.5)(h4)\n",
    "   output=layers.Dense(10)(h4)\n",
    "   model=keras.Model(inputs=input,outputs=output)\n",
    "\n",
    "   return model"
   ]
  },
  {
   "cell_type": "code",
   "execution_count": 64,
   "metadata": {
    "colab": {
     "base_uri": "https://localhost:8080/"
    },
    "id": "HhEGnd-0b7_R",
    "outputId": "000687d9-1048-4644-8a2d-ebcd20ea5b94"
   },
   "outputs": [
    {
     "name": "stdout",
     "output_type": "stream",
     "text": [
      "Epoch 1/10\n",
      "782/782 - 10s - loss: 2.9615 - accuracy: 0.3149 - 10s/epoch - 13ms/step\n",
      "Epoch 2/10\n",
      "782/782 - 9s - loss: 1.8388 - accuracy: 0.4384 - 9s/epoch - 11ms/step\n",
      "Epoch 3/10\n",
      "782/782 - 8s - loss: 1.6293 - accuracy: 0.4817 - 8s/epoch - 11ms/step\n",
      "Epoch 4/10\n",
      "782/782 - 8s - loss: 1.5405 - accuracy: 0.5072 - 8s/epoch - 11ms/step\n",
      "Epoch 5/10\n",
      "782/782 - 9s - loss: 1.4835 - accuracy: 0.5323 - 9s/epoch - 11ms/step\n",
      "Epoch 6/10\n",
      "782/782 - 8s - loss: 1.4445 - accuracy: 0.5487 - 8s/epoch - 11ms/step\n",
      "Epoch 7/10\n",
      "782/782 - 9s - loss: 1.4185 - accuracy: 0.5605 - 9s/epoch - 11ms/step\n",
      "Epoch 8/10\n",
      "782/782 - 9s - loss: 1.3932 - accuracy: 0.5718 - 9s/epoch - 11ms/step\n",
      "Epoch 9/10\n",
      "782/782 - 9s - loss: 1.3849 - accuracy: 0.5772 - 9s/epoch - 11ms/step\n",
      "Epoch 10/10\n",
      "782/782 - 9s - loss: 1.3531 - accuracy: 0.5918 - 9s/epoch - 11ms/step\n",
      "313/313 - 2s - loss: 1.5122 - accuracy: 0.5598 - 2s/epoch - 5ms/step\n"
     ]
    },
    {
     "data": {
      "text/plain": [
       "[1.5122478008270264, 0.5598000288009644]"
      ]
     },
     "execution_count": 64,
     "metadata": {},
     "output_type": "execute_result"
    }
   ],
   "source": [
    "model=mymodel()\n",
    "model.compile(\n",
    "    loss=keras.losses.SparseCategoricalCrossentropy(from_logits=True),\n",
    "    optimizer=keras.optimizers.Adam(learning_rate=3e-4),\n",
    "    metrics=[\"accuracy\"]\n",
    ")\n",
    "model.fit(x_train,y_train,batch_size=64,epochs=10,verbose=2)\n",
    "model.evaluate(x_test,y_test,batch_size=32,verbose=2)"
   ]
  },
  {
   "cell_type": "code",
   "execution_count": null,
   "metadata": {
    "id": "-cr6mppqcBfw"
   },
   "outputs": [],
   "source": []
  },
  {
   "cell_type": "code",
   "execution_count": 64,
   "metadata": {
    "id": "AbHXQ4FKecV8"
   },
   "outputs": [],
   "source": []
  }
 ],
 "metadata": {
  "accelerator": "GPU",
  "colab": {
   "collapsed_sections": [],
   "name": "nn_pipeline.ipynb",
   "provenance": []
  },
  "kernelspec": {
   "display_name": "Python 3",
   "language": "python",
   "name": "python3"
  },
  "language_info": {
   "codemirror_mode": {
    "name": "ipython",
    "version": 3
   },
   "file_extension": ".py",
   "mimetype": "text/x-python",
   "name": "python",
   "nbconvert_exporter": "python",
   "pygments_lexer": "ipython3",
   "version": "3.8.3"
  }
 },
 "nbformat": 4,
 "nbformat_minor": 1
}
