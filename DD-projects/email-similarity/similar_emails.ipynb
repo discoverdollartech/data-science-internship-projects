{
 "cells": [
  {
   "cell_type": "code",
   "execution_count": 1,
   "id": "4dbbc147",
   "metadata": {},
   "outputs": [],
   "source": [
    "import json\n",
    "from elasticsearch import Elasticsearch\n",
    "from credentials import auth\n",
    "from elasticsearch.helpers import scan\n",
    "from elasticsearch_dsl import Search, Q"
   ]
  },
  {
   "cell_type": "code",
   "execution_count": 4,
   "id": "e1f8859a",
   "metadata": {},
   "outputs": [],
   "source": [
    "u,p=auth()\n",
    "hosts =\"https://ctesm1.discoverdollar.com:41532/\"\n",
    "es = Elasticsearch(hosts,  timeout=60000, use_ssl=True, verify_certs=False, \n",
    "ssl_show_warn=False, raise_on_error=False,http_auth=(u,p))"
   ]
  },
  {
   "cell_type": "code",
   "execution_count": 5,
   "id": "d6e632a7",
   "metadata": {},
   "outputs": [
    {
     "name": "stderr",
     "output_type": "stream",
     "text": [
      "D:\\Users\\sourav.kumar\\AppData\\Local\\Temp\\2/ipykernel_9704/2159714140.py:8: DeprecationWarning: The 'body' parameter is deprecated for the 'search' API and will be removed in a future version. Instead use API parameters directly. See https://github.com/elastic/elasticsearch-py/issues/1698 for more information\n",
      "  res=es.search(index=index,body=body)\n"
     ]
    }
   ],
   "source": [
    "index=\"cantire-2020-06\"\n",
    "body={\"size\":1000,\n",
    "      \"query\":{\n",
    "    \"match_phrase\":{\n",
    "    \"fileType\": \"Message/Email File\"\n",
    "    }}\n",
    "}\n",
    "res=es.search(index=index,body=body)"
   ]
  },
  {
   "cell_type": "code",
   "execution_count": 6,
   "id": "2a520403",
   "metadata": {},
   "outputs": [
    {
     "data": {
      "text/plain": [
       "True"
      ]
     },
     "execution_count": 6,
     "metadata": {},
     "output_type": "execute_result"
    }
   ],
   "source": [
    "es.ping()"
   ]
  },
  {
   "cell_type": "code",
   "execution_count": 7,
   "id": "0889c52f",
   "metadata": {},
   "outputs": [],
   "source": [
    "import re\n",
    "import json\n",
    "def get_emails(txt):\n",
    "    r=re.findall(r'[\\w.+-]+@[\\w-]+\\.[\\w.-]+',txt)\n",
    "    return r"
   ]
  },
  {
   "cell_type": "code",
   "execution_count": 8,
   "id": "a4ebd27f",
   "metadata": {},
   "outputs": [],
   "source": [
    "l=[]\n",
    "for i in range(1000):\n",
    "    s=set()\n",
    "    \n",
    "    content=res['hits']['hits'][i]['_source']['content']\n",
    "    content.encode(\"ascii\", \"replace\")\n",
    "    \n",
    "    s.update(get_emails(content))\n",
    "    \n",
    "    l.append(s)"
   ]
  },
  {
   "cell_type": "code",
   "execution_count": 9,
   "id": "3296ee7c",
   "metadata": {},
   "outputs": [
    {
     "data": {
      "text/plain": [
       "{'Ameera.Ladak@cantire.com',\n",
       " 'Jennifer.Baird@cantire.com',\n",
       " 'Laura.Allen@cantire.com',\n",
       " 'Monique.Raymond@cantire.com',\n",
       " 'anesthesia@utoronto.ca',\n",
       " 'dbairdc313@Rogers.com',\n",
       " 'dbairdc313@rogers.com'}"
      ]
     },
     "execution_count": 9,
     "metadata": {},
     "output_type": "execute_result"
    }
   ],
   "source": [
    "l[0]"
   ]
  },
  {
   "cell_type": "code",
   "execution_count": 10,
   "id": "4d2f7c70",
   "metadata": {},
   "outputs": [],
   "source": [
    "import spacy\n",
    "nlp = spacy.load(\"en_core_web_trf\")"
   ]
  },
  {
   "cell_type": "code",
   "execution_count": 11,
   "id": "e70cb6d4",
   "metadata": {},
   "outputs": [],
   "source": [
    "def check_similar(txt1,txt2):\n",
    "    doc1 = nlp(txt1)\n",
    "    doc2 = nlp(txt2)\n",
    "    s=doc1.similarity(doc2)\n",
    "    \n",
    "    if s>=0.5:\n",
    "        return s\n",
    "    else:\n",
    "        return 0\n",
    "   \n"
   ]
  },
  {
   "cell_type": "code",
   "execution_count": 12,
   "id": "b6946daa",
   "metadata": {},
   "outputs": [],
   "source": [
    "REPLACE_BY_SPACE_RE = re.compile('[/(){}\\[\\]\\|_\\-\\–<>;:]')\n",
    "emails=re.compile('[\\w.+-]+@[\\w-]+\\.[\\w.-]+')\n",
    "anchor=re.compile(\"<[^ ]*>\")\n",
    "cid=re.compile(\"cid[^ ]*\")\n",
    "sqbrac=re.compile('\\[[^ ]*\\]')\n",
    "has=re.compile(\"#[0-9a-bA-B]*\")\n",
    "\n",
    "def clean_text(text):\n",
    "    text=anchor.sub(\" \",text)\n",
    "    text=sqbrac.sub(\" \",text)\n",
    "    text=has.sub(\" \",text)\n",
    "    text=cid.sub(\" \",text)\n",
    "    text = REPLACE_BY_SPACE_RE.sub(' ', text)\n",
    "    text=\" \".join(text.split())\n",
    "    return text"
   ]
  },
  {
   "cell_type": "code",
   "execution_count": 13,
   "id": "a2960fc8",
   "metadata": {},
   "outputs": [],
   "source": [
    "def get_subject(text):\n",
    "    lines=re.split('\\n',text)\n",
    "    subjects=[]\n",
    "    pat=re.compile('Subject:')\n",
    "    for i in lines:\n",
    "        if re.match(pat,i):\n",
    "            subjects.append(i[9:])\n",
    "    return subjects\n",
    "    "
   ]
  },
  {
   "cell_type": "code",
   "execution_count": 14,
   "id": "6b191231",
   "metadata": {},
   "outputs": [],
   "source": [
    "def sub_similar(sub1,sub2):\n",
    "    m=0\n",
    "    for i in sub1:\n",
    "        for j in sub2:\n",
    "            m=check_similar(i,j)\n",
    "    return m\n",
    "            "
   ]
  },
  {
   "cell_type": "code",
   "execution_count": 15,
   "id": "2307660f",
   "metadata": {},
   "outputs": [],
   "source": [
    "def is_similar(i,j):\n",
    "    \n",
    "    content1=res['hits']['hits'][i]['_source']['content']\n",
    "    content2=res['hits']['hits'][j]['_source']['content']\n",
    "    sub1=get_subject(content1)\n",
    "    sub2=get_subject(content2)\n",
    "    text1=clean_text(content1)\n",
    "    text2=clean_text(content2)\n",
    "    \n",
    "    simi=sub_similar(sub1,sub2)\n",
    "    \n",
    "    return check_similar(text1,text2),simi"
   ]
  },
  {
   "cell_type": "code",
   "execution_count": 16,
   "id": "2f3cc4bf",
   "metadata": {
    "scrolled": true
   },
   "outputs": [
    {
     "name": "stderr",
     "output_type": "stream",
     "text": [
      "D:\\Users\\sourav.kumar\\Anaconda3\\lib\\site-packages\\torch\\autocast_mode.py:162: UserWarning: User provided device_type of 'cuda', but CUDA is not available. Disabling\n",
      "  warnings.warn('User provided device_type of \\'cuda\\', but CUDA is not available. Disabling')\n",
      "D:\\Users\\sourav.kumar\\AppData\\Local\\Temp\\2/ipykernel_9704/208563989.py:4: UserWarning: [W007] The model you're using has no word vectors loaded, so the result of the Doc.similarity method will be based on the tagger, parser and NER, which may not give useful similarity judgements. This may happen if you're using one of the small models, e.g. `en_core_web_sm`, which don't ship with word vectors and only use context-sensitive tensors. You can always add your own word vectors, or use one of the larger models instead if available.\n",
      "  s=doc1.similarity(doc2)\n",
      "D:\\Users\\sourav.kumar\\AppData\\Local\\Temp\\2/ipykernel_9704/208563989.py:4: UserWarning: [W008] Evaluating Doc.similarity based on empty vectors.\n",
      "  s=doc1.similarity(doc2)\n"
     ]
    },
    {
     "name": "stdout",
     "output_type": "stream",
     "text": [
      "17 54 0 1.0\n",
      "18 589 0 1.0\n",
      "25 27 0 0\n",
      "25 688 0 0\n",
      "25 689 0 0\n",
      "27 688 0 0\n",
      "27 689 0 0\n",
      "38 505 0 0\n",
      "38 608 0 1.0\n",
      "38 609 0 1.0\n",
      "42 120 0 1.0\n",
      "51 424 0 1.0\n",
      "58 511 0 0\n",
      "65 453 0 1.0\n",
      "76 193 0 1.0\n",
      "77 362 0 1.0\n",
      "77 376 0 1.0\n",
      "80 339 0 0\n",
      "84 86 0 0\n",
      "100 263 0 1.0\n",
      "120 607 0 1.0\n",
      "133 261 0 1.0\n",
      "134 486 0 1.0\n",
      "134 937 0 0\n",
      "141 149 0 0\n",
      "141 157 0 1.0\n",
      "141 271 0 1.0\n",
      "149 157 0 0\n",
      "149 271 0 0\n",
      "156 456 0 1.0\n",
      "157 271 0 1.0\n",
      "162 945 0 0\n",
      "182 479 0 0\n",
      "207 219 0 0\n",
      "207 690 0 0\n",
      "207 740 0 0\n",
      "211 711 0 0\n",
      "215 612 0 0\n",
      "226 692 0 0\n"
     ]
    },
    {
     "ename": "KeyboardInterrupt",
     "evalue": "",
     "output_type": "error",
     "traceback": [
      "\u001b[1;31m---------------------------------------------------------------------------\u001b[0m",
      "\u001b[1;31mKeyboardInterrupt\u001b[0m                         Traceback (most recent call last)",
      "\u001b[1;32m~\\AppData\\Local\\Temp\\2/ipykernel_9704/1648631922.py\u001b[0m in \u001b[0;36m<module>\u001b[1;34m\u001b[0m\n\u001b[0;32m      2\u001b[0m     \u001b[1;32mfor\u001b[0m \u001b[0mj\u001b[0m \u001b[1;32min\u001b[0m \u001b[0mrange\u001b[0m\u001b[1;33m(\u001b[0m\u001b[0mi\u001b[0m\u001b[1;33m+\u001b[0m\u001b[1;36m1\u001b[0m\u001b[1;33m,\u001b[0m\u001b[1;36m1000\u001b[0m\u001b[1;33m)\u001b[0m\u001b[1;33m:\u001b[0m\u001b[1;33m\u001b[0m\u001b[1;33m\u001b[0m\u001b[0m\n\u001b[0;32m      3\u001b[0m         \u001b[1;32mif\u001b[0m \u001b[0ml\u001b[0m\u001b[1;33m[\u001b[0m\u001b[0mj\u001b[0m\u001b[1;33m]\u001b[0m \u001b[1;32mand\u001b[0m \u001b[0ml\u001b[0m\u001b[1;33m[\u001b[0m\u001b[0mi\u001b[0m\u001b[1;33m]\u001b[0m \u001b[1;32mand\u001b[0m \u001b[1;33m(\u001b[0m\u001b[0ml\u001b[0m\u001b[1;33m[\u001b[0m\u001b[0mj\u001b[0m\u001b[1;33m]\u001b[0m\u001b[1;33m.\u001b[0m\u001b[0missubset\u001b[0m\u001b[1;33m(\u001b[0m\u001b[0ml\u001b[0m\u001b[1;33m[\u001b[0m\u001b[0mi\u001b[0m\u001b[1;33m]\u001b[0m\u001b[1;33m)\u001b[0m \u001b[1;32mor\u001b[0m \u001b[0ml\u001b[0m\u001b[1;33m[\u001b[0m\u001b[0mj\u001b[0m\u001b[1;33m]\u001b[0m\u001b[1;33m.\u001b[0m\u001b[0missuperset\u001b[0m\u001b[1;33m(\u001b[0m\u001b[0ml\u001b[0m\u001b[1;33m[\u001b[0m\u001b[0mi\u001b[0m\u001b[1;33m]\u001b[0m\u001b[1;33m)\u001b[0m\u001b[1;33m)\u001b[0m \u001b[1;32mand\u001b[0m \u001b[0mlen\u001b[0m\u001b[1;33m(\u001b[0m\u001b[0ml\u001b[0m\u001b[1;33m[\u001b[0m\u001b[0mi\u001b[0m\u001b[1;33m]\u001b[0m\u001b[1;33m.\u001b[0m\u001b[0mintersection\u001b[0m\u001b[1;33m(\u001b[0m\u001b[0ml\u001b[0m\u001b[1;33m[\u001b[0m\u001b[0mj\u001b[0m\u001b[1;33m]\u001b[0m\u001b[1;33m)\u001b[0m\u001b[1;33m)\u001b[0m\u001b[1;33m>=\u001b[0m\u001b[1;36m2\u001b[0m\u001b[1;33m:\u001b[0m\u001b[1;33m\u001b[0m\u001b[1;33m\u001b[0m\u001b[0m\n\u001b[1;32m----> 4\u001b[1;33m             \u001b[0ms\u001b[0m\u001b[1;33m,\u001b[0m\u001b[0mss\u001b[0m\u001b[1;33m=\u001b[0m\u001b[0mis_similar\u001b[0m\u001b[1;33m(\u001b[0m\u001b[0mi\u001b[0m\u001b[1;33m,\u001b[0m\u001b[0mj\u001b[0m\u001b[1;33m)\u001b[0m\u001b[1;33m\u001b[0m\u001b[1;33m\u001b[0m\u001b[0m\n\u001b[0m\u001b[0;32m      5\u001b[0m             \u001b[0mprint\u001b[0m\u001b[1;33m(\u001b[0m\u001b[0mi\u001b[0m\u001b[1;33m,\u001b[0m\u001b[0mj\u001b[0m\u001b[1;33m,\u001b[0m\u001b[0ms\u001b[0m\u001b[1;33m,\u001b[0m\u001b[0mss\u001b[0m\u001b[1;33m)\u001b[0m\u001b[1;33m\u001b[0m\u001b[1;33m\u001b[0m\u001b[0m\n\u001b[0;32m      6\u001b[0m \u001b[1;33m\u001b[0m\u001b[0m\n",
      "\u001b[1;32m~\\AppData\\Local\\Temp\\2/ipykernel_9704/3251093178.py\u001b[0m in \u001b[0;36mis_similar\u001b[1;34m(i, j)\u001b[0m\n\u001b[0;32m      8\u001b[0m     \u001b[0mtext2\u001b[0m\u001b[1;33m=\u001b[0m\u001b[0mclean_text\u001b[0m\u001b[1;33m(\u001b[0m\u001b[0mcontent2\u001b[0m\u001b[1;33m)\u001b[0m\u001b[1;33m\u001b[0m\u001b[1;33m\u001b[0m\u001b[0m\n\u001b[0;32m      9\u001b[0m \u001b[1;33m\u001b[0m\u001b[0m\n\u001b[1;32m---> 10\u001b[1;33m     \u001b[0msimi\u001b[0m\u001b[1;33m=\u001b[0m\u001b[0msub_similar\u001b[0m\u001b[1;33m(\u001b[0m\u001b[0msub1\u001b[0m\u001b[1;33m,\u001b[0m\u001b[0msub2\u001b[0m\u001b[1;33m)\u001b[0m\u001b[1;33m\u001b[0m\u001b[1;33m\u001b[0m\u001b[0m\n\u001b[0m\u001b[0;32m     11\u001b[0m \u001b[1;33m\u001b[0m\u001b[0m\n\u001b[0;32m     12\u001b[0m     \u001b[1;32mreturn\u001b[0m \u001b[0mcheck_similar\u001b[0m\u001b[1;33m(\u001b[0m\u001b[0mtext1\u001b[0m\u001b[1;33m,\u001b[0m\u001b[0mtext2\u001b[0m\u001b[1;33m)\u001b[0m\u001b[1;33m,\u001b[0m\u001b[0msimi\u001b[0m\u001b[1;33m\u001b[0m\u001b[1;33m\u001b[0m\u001b[0m\n",
      "\u001b[1;32m~\\AppData\\Local\\Temp\\2/ipykernel_9704/2095406883.py\u001b[0m in \u001b[0;36msub_similar\u001b[1;34m(sub1, sub2)\u001b[0m\n\u001b[0;32m      3\u001b[0m     \u001b[1;32mfor\u001b[0m \u001b[0mi\u001b[0m \u001b[1;32min\u001b[0m \u001b[0msub1\u001b[0m\u001b[1;33m:\u001b[0m\u001b[1;33m\u001b[0m\u001b[1;33m\u001b[0m\u001b[0m\n\u001b[0;32m      4\u001b[0m         \u001b[1;32mfor\u001b[0m \u001b[0mj\u001b[0m \u001b[1;32min\u001b[0m \u001b[0msub2\u001b[0m\u001b[1;33m:\u001b[0m\u001b[1;33m\u001b[0m\u001b[1;33m\u001b[0m\u001b[0m\n\u001b[1;32m----> 5\u001b[1;33m             \u001b[0mm\u001b[0m\u001b[1;33m=\u001b[0m\u001b[0mcheck_similar\u001b[0m\u001b[1;33m(\u001b[0m\u001b[0mi\u001b[0m\u001b[1;33m,\u001b[0m\u001b[0mj\u001b[0m\u001b[1;33m)\u001b[0m\u001b[1;33m\u001b[0m\u001b[1;33m\u001b[0m\u001b[0m\n\u001b[0m\u001b[0;32m      6\u001b[0m     \u001b[1;32mreturn\u001b[0m \u001b[0mm\u001b[0m\u001b[1;33m\u001b[0m\u001b[1;33m\u001b[0m\u001b[0m\n\u001b[0;32m      7\u001b[0m \u001b[1;33m\u001b[0m\u001b[0m\n",
      "\u001b[1;32m~\\AppData\\Local\\Temp\\2/ipykernel_9704/208563989.py\u001b[0m in \u001b[0;36mcheck_similar\u001b[1;34m(txt1, txt2)\u001b[0m\n\u001b[0;32m      1\u001b[0m \u001b[1;32mdef\u001b[0m \u001b[0mcheck_similar\u001b[0m\u001b[1;33m(\u001b[0m\u001b[0mtxt1\u001b[0m\u001b[1;33m,\u001b[0m\u001b[0mtxt2\u001b[0m\u001b[1;33m)\u001b[0m\u001b[1;33m:\u001b[0m\u001b[1;33m\u001b[0m\u001b[1;33m\u001b[0m\u001b[0m\n\u001b[0;32m      2\u001b[0m     \u001b[0mdoc1\u001b[0m \u001b[1;33m=\u001b[0m \u001b[0mnlp\u001b[0m\u001b[1;33m(\u001b[0m\u001b[0mtxt1\u001b[0m\u001b[1;33m)\u001b[0m\u001b[1;33m\u001b[0m\u001b[1;33m\u001b[0m\u001b[0m\n\u001b[1;32m----> 3\u001b[1;33m     \u001b[0mdoc2\u001b[0m \u001b[1;33m=\u001b[0m \u001b[0mnlp\u001b[0m\u001b[1;33m(\u001b[0m\u001b[0mtxt2\u001b[0m\u001b[1;33m)\u001b[0m\u001b[1;33m\u001b[0m\u001b[1;33m\u001b[0m\u001b[0m\n\u001b[0m\u001b[0;32m      4\u001b[0m     \u001b[0ms\u001b[0m\u001b[1;33m=\u001b[0m\u001b[0mdoc1\u001b[0m\u001b[1;33m.\u001b[0m\u001b[0msimilarity\u001b[0m\u001b[1;33m(\u001b[0m\u001b[0mdoc2\u001b[0m\u001b[1;33m)\u001b[0m\u001b[1;33m\u001b[0m\u001b[1;33m\u001b[0m\u001b[0m\n\u001b[0;32m      5\u001b[0m \u001b[1;33m\u001b[0m\u001b[0m\n",
      "\u001b[1;32m~\\Anaconda3\\lib\\site-packages\\spacy\\language.py\u001b[0m in \u001b[0;36m__call__\u001b[1;34m(self, text, disable, component_cfg)\u001b[0m\n\u001b[0;32m   1015\u001b[0m                 \u001b[0merror_handler\u001b[0m \u001b[1;33m=\u001b[0m \u001b[0mproc\u001b[0m\u001b[1;33m.\u001b[0m\u001b[0mget_error_handler\u001b[0m\u001b[1;33m(\u001b[0m\u001b[1;33m)\u001b[0m\u001b[1;33m\u001b[0m\u001b[1;33m\u001b[0m\u001b[0m\n\u001b[0;32m   1016\u001b[0m             \u001b[1;32mtry\u001b[0m\u001b[1;33m:\u001b[0m\u001b[1;33m\u001b[0m\u001b[1;33m\u001b[0m\u001b[0m\n\u001b[1;32m-> 1017\u001b[1;33m                 \u001b[0mdoc\u001b[0m \u001b[1;33m=\u001b[0m \u001b[0mproc\u001b[0m\u001b[1;33m(\u001b[0m\u001b[0mdoc\u001b[0m\u001b[1;33m,\u001b[0m \u001b[1;33m**\u001b[0m\u001b[0mcomponent_cfg\u001b[0m\u001b[1;33m.\u001b[0m\u001b[0mget\u001b[0m\u001b[1;33m(\u001b[0m\u001b[0mname\u001b[0m\u001b[1;33m,\u001b[0m \u001b[1;33m{\u001b[0m\u001b[1;33m}\u001b[0m\u001b[1;33m)\u001b[0m\u001b[1;33m)\u001b[0m  \u001b[1;31m# type: ignore[call-arg]\u001b[0m\u001b[1;33m\u001b[0m\u001b[1;33m\u001b[0m\u001b[0m\n\u001b[0m\u001b[0;32m   1018\u001b[0m             \u001b[1;32mexcept\u001b[0m \u001b[0mKeyError\u001b[0m \u001b[1;32mas\u001b[0m \u001b[0me\u001b[0m\u001b[1;33m:\u001b[0m\u001b[1;33m\u001b[0m\u001b[1;33m\u001b[0m\u001b[0m\n\u001b[0;32m   1019\u001b[0m                 \u001b[1;31m# This typically happens if a component is not initialized\u001b[0m\u001b[1;33m\u001b[0m\u001b[1;33m\u001b[0m\u001b[0m\n",
      "\u001b[1;32m~\\Anaconda3\\lib\\site-packages\\spacy_transformers\\pipeline_component.py\u001b[0m in \u001b[0;36m__call__\u001b[1;34m(self, doc)\u001b[0m\n\u001b[0;32m    190\u001b[0m         \"\"\"\n\u001b[0;32m    191\u001b[0m         \u001b[0minstall_extensions\u001b[0m\u001b[1;33m(\u001b[0m\u001b[1;33m)\u001b[0m\u001b[1;33m\u001b[0m\u001b[1;33m\u001b[0m\u001b[0m\n\u001b[1;32m--> 192\u001b[1;33m         \u001b[0moutputs\u001b[0m \u001b[1;33m=\u001b[0m \u001b[0mself\u001b[0m\u001b[1;33m.\u001b[0m\u001b[0mpredict\u001b[0m\u001b[1;33m(\u001b[0m\u001b[1;33m[\u001b[0m\u001b[0mdoc\u001b[0m\u001b[1;33m]\u001b[0m\u001b[1;33m)\u001b[0m\u001b[1;33m\u001b[0m\u001b[1;33m\u001b[0m\u001b[0m\n\u001b[0m\u001b[0;32m    193\u001b[0m         \u001b[0mself\u001b[0m\u001b[1;33m.\u001b[0m\u001b[0mset_annotations\u001b[0m\u001b[1;33m(\u001b[0m\u001b[1;33m[\u001b[0m\u001b[0mdoc\u001b[0m\u001b[1;33m]\u001b[0m\u001b[1;33m,\u001b[0m \u001b[0moutputs\u001b[0m\u001b[1;33m)\u001b[0m\u001b[1;33m\u001b[0m\u001b[1;33m\u001b[0m\u001b[0m\n\u001b[0;32m    194\u001b[0m         \u001b[1;32mreturn\u001b[0m \u001b[0mdoc\u001b[0m\u001b[1;33m\u001b[0m\u001b[1;33m\u001b[0m\u001b[0m\n",
      "\u001b[1;32m~\\Anaconda3\\lib\\site-packages\\spacy_transformers\\pipeline_component.py\u001b[0m in \u001b[0;36mpredict\u001b[1;34m(self, docs)\u001b[0m\n\u001b[0;32m    226\u001b[0m             \u001b[0mactivations\u001b[0m \u001b[1;33m=\u001b[0m \u001b[0mFullTransformerBatch\u001b[0m\u001b[1;33m.\u001b[0m\u001b[0mempty\u001b[0m\u001b[1;33m(\u001b[0m\u001b[0mlen\u001b[0m\u001b[1;33m(\u001b[0m\u001b[0mdocs\u001b[0m\u001b[1;33m)\u001b[0m\u001b[1;33m)\u001b[0m\u001b[1;33m\u001b[0m\u001b[1;33m\u001b[0m\u001b[0m\n\u001b[0;32m    227\u001b[0m         \u001b[1;32melse\u001b[0m\u001b[1;33m:\u001b[0m\u001b[1;33m\u001b[0m\u001b[1;33m\u001b[0m\u001b[0m\n\u001b[1;32m--> 228\u001b[1;33m             \u001b[0mactivations\u001b[0m \u001b[1;33m=\u001b[0m \u001b[0mself\u001b[0m\u001b[1;33m.\u001b[0m\u001b[0mmodel\u001b[0m\u001b[1;33m.\u001b[0m\u001b[0mpredict\u001b[0m\u001b[1;33m(\u001b[0m\u001b[0mdocs\u001b[0m\u001b[1;33m)\u001b[0m\u001b[1;33m\u001b[0m\u001b[1;33m\u001b[0m\u001b[0m\n\u001b[0m\u001b[0;32m    229\u001b[0m         \u001b[0mbatch_id\u001b[0m \u001b[1;33m=\u001b[0m \u001b[0mTransformerListener\u001b[0m\u001b[1;33m.\u001b[0m\u001b[0mget_batch_id\u001b[0m\u001b[1;33m(\u001b[0m\u001b[0mdocs\u001b[0m\u001b[1;33m)\u001b[0m\u001b[1;33m\u001b[0m\u001b[1;33m\u001b[0m\u001b[0m\n\u001b[0;32m    230\u001b[0m         \u001b[1;32mfor\u001b[0m \u001b[0mlistener\u001b[0m \u001b[1;32min\u001b[0m \u001b[0mself\u001b[0m\u001b[1;33m.\u001b[0m\u001b[0mlisteners\u001b[0m\u001b[1;33m:\u001b[0m\u001b[1;33m\u001b[0m\u001b[1;33m\u001b[0m\u001b[0m\n",
      "\u001b[1;32m~\\Anaconda3\\lib\\site-packages\\thinc\\model.py\u001b[0m in \u001b[0;36mpredict\u001b[1;34m(self, X)\u001b[0m\n\u001b[0;32m    313\u001b[0m         \u001b[0monly\u001b[0m \u001b[0mthe\u001b[0m \u001b[0moutput\u001b[0m\u001b[1;33m,\u001b[0m \u001b[0minstead\u001b[0m \u001b[0mof\u001b[0m \u001b[0mthe\u001b[0m\u001b[0;31m \u001b[0m\u001b[0;31m`\u001b[0m\u001b[1;33m(\u001b[0m\u001b[0moutput\u001b[0m\u001b[1;33m,\u001b[0m \u001b[0mcallback\u001b[0m\u001b[1;33m)\u001b[0m\u001b[0;31m`\u001b[0m \u001b[0mtuple\u001b[0m\u001b[1;33m.\u001b[0m\u001b[1;33m\u001b[0m\u001b[1;33m\u001b[0m\u001b[0m\n\u001b[0;32m    314\u001b[0m         \"\"\"\n\u001b[1;32m--> 315\u001b[1;33m         \u001b[1;32mreturn\u001b[0m \u001b[0mself\u001b[0m\u001b[1;33m.\u001b[0m\u001b[0m_func\u001b[0m\u001b[1;33m(\u001b[0m\u001b[0mself\u001b[0m\u001b[1;33m,\u001b[0m \u001b[0mX\u001b[0m\u001b[1;33m,\u001b[0m \u001b[0mis_train\u001b[0m\u001b[1;33m=\u001b[0m\u001b[1;32mFalse\u001b[0m\u001b[1;33m)\u001b[0m\u001b[1;33m[\u001b[0m\u001b[1;36m0\u001b[0m\u001b[1;33m]\u001b[0m\u001b[1;33m\u001b[0m\u001b[1;33m\u001b[0m\u001b[0m\n\u001b[0m\u001b[0;32m    316\u001b[0m \u001b[1;33m\u001b[0m\u001b[0m\n\u001b[0;32m    317\u001b[0m     \u001b[1;32mdef\u001b[0m \u001b[0mfinish_update\u001b[0m\u001b[1;33m(\u001b[0m\u001b[0mself\u001b[0m\u001b[1;33m,\u001b[0m \u001b[0moptimizer\u001b[0m\u001b[1;33m:\u001b[0m \u001b[0mOptimizer\u001b[0m\u001b[1;33m)\u001b[0m \u001b[1;33m->\u001b[0m \u001b[1;32mNone\u001b[0m\u001b[1;33m:\u001b[0m\u001b[1;33m\u001b[0m\u001b[1;33m\u001b[0m\u001b[0m\n",
      "\u001b[1;32m~\\Anaconda3\\lib\\site-packages\\spacy_transformers\\layers\\transformer_model.py\u001b[0m in \u001b[0;36mforward\u001b[1;34m(model, docs, is_train)\u001b[0m\n\u001b[0;32m    183\u001b[0m         \u001b[0mwordpieces\u001b[0m\u001b[1;33m,\u001b[0m \u001b[0malign\u001b[0m\u001b[1;33m,\u001b[0m \u001b[0mtokenizer\u001b[0m\u001b[1;33m.\u001b[0m\u001b[0mmodel_max_length\u001b[0m\u001b[1;33m\u001b[0m\u001b[1;33m\u001b[0m\u001b[0m\n\u001b[0;32m    184\u001b[0m     )\n\u001b[1;32m--> 185\u001b[1;33m     \u001b[0mmodel_output\u001b[0m\u001b[1;33m,\u001b[0m \u001b[0mbp_tensors\u001b[0m \u001b[1;33m=\u001b[0m \u001b[0mtransformer\u001b[0m\u001b[1;33m(\u001b[0m\u001b[0mwordpieces\u001b[0m\u001b[1;33m,\u001b[0m \u001b[0mis_train\u001b[0m\u001b[1;33m)\u001b[0m\u001b[1;33m\u001b[0m\u001b[1;33m\u001b[0m\u001b[0m\n\u001b[0m\u001b[0;32m    186\u001b[0m     \u001b[1;32mif\u001b[0m \u001b[1;34m\"logger\"\u001b[0m \u001b[1;32min\u001b[0m \u001b[0mmodel\u001b[0m\u001b[1;33m.\u001b[0m\u001b[0mattrs\u001b[0m\u001b[1;33m:\u001b[0m\u001b[1;33m\u001b[0m\u001b[1;33m\u001b[0m\u001b[0m\n\u001b[0;32m    187\u001b[0m         \u001b[0mlog_gpu_memory\u001b[0m\u001b[1;33m(\u001b[0m\u001b[0mmodel\u001b[0m\u001b[1;33m.\u001b[0m\u001b[0mattrs\u001b[0m\u001b[1;33m[\u001b[0m\u001b[1;34m\"logger\"\u001b[0m\u001b[1;33m]\u001b[0m\u001b[1;33m,\u001b[0m \u001b[1;34m\"after forward\"\u001b[0m\u001b[1;33m)\u001b[0m\u001b[1;33m\u001b[0m\u001b[1;33m\u001b[0m\u001b[0m\n",
      "\u001b[1;32m~\\Anaconda3\\lib\\site-packages\\thinc\\model.py\u001b[0m in \u001b[0;36m__call__\u001b[1;34m(self, X, is_train)\u001b[0m\n\u001b[0;32m    289\u001b[0m         \"\"\"Call the model's `forward` function, returning the output and a\n\u001b[0;32m    290\u001b[0m         callback to compute the gradients via backpropagation.\"\"\"\n\u001b[1;32m--> 291\u001b[1;33m         \u001b[1;32mreturn\u001b[0m \u001b[0mself\u001b[0m\u001b[1;33m.\u001b[0m\u001b[0m_func\u001b[0m\u001b[1;33m(\u001b[0m\u001b[0mself\u001b[0m\u001b[1;33m,\u001b[0m \u001b[0mX\u001b[0m\u001b[1;33m,\u001b[0m \u001b[0mis_train\u001b[0m\u001b[1;33m=\u001b[0m\u001b[0mis_train\u001b[0m\u001b[1;33m)\u001b[0m\u001b[1;33m\u001b[0m\u001b[1;33m\u001b[0m\u001b[0m\n\u001b[0m\u001b[0;32m    292\u001b[0m \u001b[1;33m\u001b[0m\u001b[0m\n\u001b[0;32m    293\u001b[0m     \u001b[1;32mdef\u001b[0m \u001b[0minitialize\u001b[0m\u001b[1;33m(\u001b[0m\u001b[0mself\u001b[0m\u001b[1;33m,\u001b[0m \u001b[0mX\u001b[0m\u001b[1;33m:\u001b[0m \u001b[0mOptional\u001b[0m\u001b[1;33m[\u001b[0m\u001b[0mInT\u001b[0m\u001b[1;33m]\u001b[0m \u001b[1;33m=\u001b[0m \u001b[1;32mNone\u001b[0m\u001b[1;33m,\u001b[0m \u001b[0mY\u001b[0m\u001b[1;33m:\u001b[0m \u001b[0mOptional\u001b[0m\u001b[1;33m[\u001b[0m\u001b[0mOutT\u001b[0m\u001b[1;33m]\u001b[0m \u001b[1;33m=\u001b[0m \u001b[1;32mNone\u001b[0m\u001b[1;33m)\u001b[0m \u001b[1;33m->\u001b[0m \u001b[1;34m\"Model\"\u001b[0m\u001b[1;33m:\u001b[0m\u001b[1;33m\u001b[0m\u001b[1;33m\u001b[0m\u001b[0m\n",
      "\u001b[1;32m~\\Anaconda3\\lib\\site-packages\\thinc\\layers\\pytorchwrapper.py\u001b[0m in \u001b[0;36mforward\u001b[1;34m(model, X, is_train)\u001b[0m\n\u001b[0;32m    132\u001b[0m \u001b[1;33m\u001b[0m\u001b[0m\n\u001b[0;32m    133\u001b[0m     \u001b[0mXtorch\u001b[0m\u001b[1;33m,\u001b[0m \u001b[0mget_dX\u001b[0m \u001b[1;33m=\u001b[0m \u001b[0mconvert_inputs\u001b[0m\u001b[1;33m(\u001b[0m\u001b[0mmodel\u001b[0m\u001b[1;33m,\u001b[0m \u001b[0mX\u001b[0m\u001b[1;33m,\u001b[0m \u001b[0mis_train\u001b[0m\u001b[1;33m)\u001b[0m\u001b[1;33m\u001b[0m\u001b[1;33m\u001b[0m\u001b[0m\n\u001b[1;32m--> 134\u001b[1;33m     \u001b[0mYtorch\u001b[0m\u001b[1;33m,\u001b[0m \u001b[0mtorch_backprop\u001b[0m \u001b[1;33m=\u001b[0m \u001b[0mmodel\u001b[0m\u001b[1;33m.\u001b[0m\u001b[0mshims\u001b[0m\u001b[1;33m[\u001b[0m\u001b[1;36m0\u001b[0m\u001b[1;33m]\u001b[0m\u001b[1;33m(\u001b[0m\u001b[0mXtorch\u001b[0m\u001b[1;33m,\u001b[0m \u001b[0mis_train\u001b[0m\u001b[1;33m)\u001b[0m\u001b[1;33m\u001b[0m\u001b[1;33m\u001b[0m\u001b[0m\n\u001b[0m\u001b[0;32m    135\u001b[0m     \u001b[0mY\u001b[0m\u001b[1;33m,\u001b[0m \u001b[0mget_dYtorch\u001b[0m \u001b[1;33m=\u001b[0m \u001b[0mconvert_outputs\u001b[0m\u001b[1;33m(\u001b[0m\u001b[0mmodel\u001b[0m\u001b[1;33m,\u001b[0m \u001b[1;33m(\u001b[0m\u001b[0mX\u001b[0m\u001b[1;33m,\u001b[0m \u001b[0mYtorch\u001b[0m\u001b[1;33m)\u001b[0m\u001b[1;33m,\u001b[0m \u001b[0mis_train\u001b[0m\u001b[1;33m)\u001b[0m\u001b[1;33m\u001b[0m\u001b[1;33m\u001b[0m\u001b[0m\n\u001b[0;32m    136\u001b[0m \u001b[1;33m\u001b[0m\u001b[0m\n",
      "\u001b[1;32m~\\Anaconda3\\lib\\site-packages\\thinc\\shims\\pytorch.py\u001b[0m in \u001b[0;36m__call__\u001b[1;34m(self, inputs, is_train)\u001b[0m\n\u001b[0;32m     70\u001b[0m             \u001b[1;32mreturn\u001b[0m \u001b[0mself\u001b[0m\u001b[1;33m.\u001b[0m\u001b[0mbegin_update\u001b[0m\u001b[1;33m(\u001b[0m\u001b[0minputs\u001b[0m\u001b[1;33m)\u001b[0m\u001b[1;33m\u001b[0m\u001b[1;33m\u001b[0m\u001b[0m\n\u001b[0;32m     71\u001b[0m         \u001b[1;32melse\u001b[0m\u001b[1;33m:\u001b[0m\u001b[1;33m\u001b[0m\u001b[1;33m\u001b[0m\u001b[0m\n\u001b[1;32m---> 72\u001b[1;33m             \u001b[1;32mreturn\u001b[0m \u001b[0mself\u001b[0m\u001b[1;33m.\u001b[0m\u001b[0mpredict\u001b[0m\u001b[1;33m(\u001b[0m\u001b[0minputs\u001b[0m\u001b[1;33m)\u001b[0m\u001b[1;33m,\u001b[0m \u001b[1;32mlambda\u001b[0m \u001b[0ma\u001b[0m\u001b[1;33m:\u001b[0m \u001b[1;33m...\u001b[0m\u001b[1;33m\u001b[0m\u001b[1;33m\u001b[0m\u001b[0m\n\u001b[0m\u001b[0;32m     73\u001b[0m \u001b[1;33m\u001b[0m\u001b[0m\n\u001b[0;32m     74\u001b[0m     \u001b[1;32mdef\u001b[0m \u001b[0mpredict\u001b[0m\u001b[1;33m(\u001b[0m\u001b[0mself\u001b[0m\u001b[1;33m,\u001b[0m \u001b[0minputs\u001b[0m\u001b[1;33m:\u001b[0m \u001b[0mArgsKwargs\u001b[0m\u001b[1;33m)\u001b[0m \u001b[1;33m->\u001b[0m \u001b[0mAny\u001b[0m\u001b[1;33m:\u001b[0m\u001b[1;33m\u001b[0m\u001b[1;33m\u001b[0m\u001b[0m\n",
      "\u001b[1;32m~\\Anaconda3\\lib\\site-packages\\thinc\\shims\\pytorch.py\u001b[0m in \u001b[0;36mpredict\u001b[1;34m(self, inputs)\u001b[0m\n\u001b[0;32m     80\u001b[0m         \u001b[1;32mwith\u001b[0m \u001b[0mtorch\u001b[0m\u001b[1;33m.\u001b[0m\u001b[0mno_grad\u001b[0m\u001b[1;33m(\u001b[0m\u001b[1;33m)\u001b[0m\u001b[1;33m:\u001b[0m\u001b[1;33m\u001b[0m\u001b[1;33m\u001b[0m\u001b[0m\n\u001b[0;32m     81\u001b[0m             \u001b[1;32mwith\u001b[0m \u001b[0mamp\u001b[0m\u001b[1;33m.\u001b[0m\u001b[0mautocast\u001b[0m\u001b[1;33m(\u001b[0m\u001b[0mself\u001b[0m\u001b[1;33m.\u001b[0m\u001b[0m_mixed_precision\u001b[0m\u001b[1;33m)\u001b[0m\u001b[1;33m:\u001b[0m\u001b[1;33m\u001b[0m\u001b[1;33m\u001b[0m\u001b[0m\n\u001b[1;32m---> 82\u001b[1;33m                 \u001b[0moutputs\u001b[0m \u001b[1;33m=\u001b[0m \u001b[0mself\u001b[0m\u001b[1;33m.\u001b[0m\u001b[0m_model\u001b[0m\u001b[1;33m(\u001b[0m\u001b[1;33m*\u001b[0m\u001b[0minputs\u001b[0m\u001b[1;33m.\u001b[0m\u001b[0margs\u001b[0m\u001b[1;33m,\u001b[0m \u001b[1;33m**\u001b[0m\u001b[0minputs\u001b[0m\u001b[1;33m.\u001b[0m\u001b[0mkwargs\u001b[0m\u001b[1;33m)\u001b[0m\u001b[1;33m\u001b[0m\u001b[1;33m\u001b[0m\u001b[0m\n\u001b[0m\u001b[0;32m     83\u001b[0m         \u001b[0mself\u001b[0m\u001b[1;33m.\u001b[0m\u001b[0m_model\u001b[0m\u001b[1;33m.\u001b[0m\u001b[0mtrain\u001b[0m\u001b[1;33m(\u001b[0m\u001b[1;33m)\u001b[0m\u001b[1;33m\u001b[0m\u001b[1;33m\u001b[0m\u001b[0m\n\u001b[0;32m     84\u001b[0m         \u001b[1;32mreturn\u001b[0m \u001b[0moutputs\u001b[0m\u001b[1;33m\u001b[0m\u001b[1;33m\u001b[0m\u001b[0m\n",
      "\u001b[1;32m~\\Anaconda3\\lib\\site-packages\\torch\\nn\\modules\\module.py\u001b[0m in \u001b[0;36m_call_impl\u001b[1;34m(self, *input, **kwargs)\u001b[0m\n\u001b[0;32m   1108\u001b[0m         if not (self._backward_hooks or self._forward_hooks or self._forward_pre_hooks or _global_backward_hooks\n\u001b[0;32m   1109\u001b[0m                 or _global_forward_hooks or _global_forward_pre_hooks):\n\u001b[1;32m-> 1110\u001b[1;33m             \u001b[1;32mreturn\u001b[0m \u001b[0mforward_call\u001b[0m\u001b[1;33m(\u001b[0m\u001b[1;33m*\u001b[0m\u001b[0minput\u001b[0m\u001b[1;33m,\u001b[0m \u001b[1;33m**\u001b[0m\u001b[0mkwargs\u001b[0m\u001b[1;33m)\u001b[0m\u001b[1;33m\u001b[0m\u001b[1;33m\u001b[0m\u001b[0m\n\u001b[0m\u001b[0;32m   1111\u001b[0m         \u001b[1;31m# Do not call functions when jit is used\u001b[0m\u001b[1;33m\u001b[0m\u001b[1;33m\u001b[0m\u001b[0m\n\u001b[0;32m   1112\u001b[0m         \u001b[0mfull_backward_hooks\u001b[0m\u001b[1;33m,\u001b[0m \u001b[0mnon_full_backward_hooks\u001b[0m \u001b[1;33m=\u001b[0m \u001b[1;33m[\u001b[0m\u001b[1;33m]\u001b[0m\u001b[1;33m,\u001b[0m \u001b[1;33m[\u001b[0m\u001b[1;33m]\u001b[0m\u001b[1;33m\u001b[0m\u001b[1;33m\u001b[0m\u001b[0m\n",
      "\u001b[1;32m~\\Anaconda3\\lib\\site-packages\\transformers\\models\\roberta\\modeling_roberta.py\u001b[0m in \u001b[0;36mforward\u001b[1;34m(self, input_ids, attention_mask, token_type_ids, position_ids, head_mask, inputs_embeds, encoder_hidden_states, encoder_attention_mask, past_key_values, use_cache, output_attentions, output_hidden_states, return_dict)\u001b[0m\n\u001b[0;32m    848\u001b[0m             \u001b[0mpast_key_values_length\u001b[0m\u001b[1;33m=\u001b[0m\u001b[0mpast_key_values_length\u001b[0m\u001b[1;33m,\u001b[0m\u001b[1;33m\u001b[0m\u001b[1;33m\u001b[0m\u001b[0m\n\u001b[0;32m    849\u001b[0m         )\n\u001b[1;32m--> 850\u001b[1;33m         encoder_outputs = self.encoder(\n\u001b[0m\u001b[0;32m    851\u001b[0m             \u001b[0membedding_output\u001b[0m\u001b[1;33m,\u001b[0m\u001b[1;33m\u001b[0m\u001b[1;33m\u001b[0m\u001b[0m\n\u001b[0;32m    852\u001b[0m             \u001b[0mattention_mask\u001b[0m\u001b[1;33m=\u001b[0m\u001b[0mextended_attention_mask\u001b[0m\u001b[1;33m,\u001b[0m\u001b[1;33m\u001b[0m\u001b[1;33m\u001b[0m\u001b[0m\n",
      "\u001b[1;32m~\\Anaconda3\\lib\\site-packages\\torch\\nn\\modules\\module.py\u001b[0m in \u001b[0;36m_call_impl\u001b[1;34m(self, *input, **kwargs)\u001b[0m\n\u001b[0;32m   1108\u001b[0m         if not (self._backward_hooks or self._forward_hooks or self._forward_pre_hooks or _global_backward_hooks\n\u001b[0;32m   1109\u001b[0m                 or _global_forward_hooks or _global_forward_pre_hooks):\n\u001b[1;32m-> 1110\u001b[1;33m             \u001b[1;32mreturn\u001b[0m \u001b[0mforward_call\u001b[0m\u001b[1;33m(\u001b[0m\u001b[1;33m*\u001b[0m\u001b[0minput\u001b[0m\u001b[1;33m,\u001b[0m \u001b[1;33m**\u001b[0m\u001b[0mkwargs\u001b[0m\u001b[1;33m)\u001b[0m\u001b[1;33m\u001b[0m\u001b[1;33m\u001b[0m\u001b[0m\n\u001b[0m\u001b[0;32m   1111\u001b[0m         \u001b[1;31m# Do not call functions when jit is used\u001b[0m\u001b[1;33m\u001b[0m\u001b[1;33m\u001b[0m\u001b[0m\n\u001b[0;32m   1112\u001b[0m         \u001b[0mfull_backward_hooks\u001b[0m\u001b[1;33m,\u001b[0m \u001b[0mnon_full_backward_hooks\u001b[0m \u001b[1;33m=\u001b[0m \u001b[1;33m[\u001b[0m\u001b[1;33m]\u001b[0m\u001b[1;33m,\u001b[0m \u001b[1;33m[\u001b[0m\u001b[1;33m]\u001b[0m\u001b[1;33m\u001b[0m\u001b[1;33m\u001b[0m\u001b[0m\n",
      "\u001b[1;32m~\\Anaconda3\\lib\\site-packages\\transformers\\models\\roberta\\modeling_roberta.py\u001b[0m in \u001b[0;36mforward\u001b[1;34m(self, hidden_states, attention_mask, head_mask, encoder_hidden_states, encoder_attention_mask, past_key_values, use_cache, output_attentions, output_hidden_states, return_dict)\u001b[0m\n\u001b[0;32m    524\u001b[0m                 )\n\u001b[0;32m    525\u001b[0m             \u001b[1;32melse\u001b[0m\u001b[1;33m:\u001b[0m\u001b[1;33m\u001b[0m\u001b[1;33m\u001b[0m\u001b[0m\n\u001b[1;32m--> 526\u001b[1;33m                 layer_outputs = layer_module(\n\u001b[0m\u001b[0;32m    527\u001b[0m                     \u001b[0mhidden_states\u001b[0m\u001b[1;33m,\u001b[0m\u001b[1;33m\u001b[0m\u001b[1;33m\u001b[0m\u001b[0m\n\u001b[0;32m    528\u001b[0m                     \u001b[0mattention_mask\u001b[0m\u001b[1;33m,\u001b[0m\u001b[1;33m\u001b[0m\u001b[1;33m\u001b[0m\u001b[0m\n",
      "\u001b[1;32m~\\Anaconda3\\lib\\site-packages\\torch\\nn\\modules\\module.py\u001b[0m in \u001b[0;36m_call_impl\u001b[1;34m(self, *input, **kwargs)\u001b[0m\n\u001b[0;32m   1108\u001b[0m         if not (self._backward_hooks or self._forward_hooks or self._forward_pre_hooks or _global_backward_hooks\n\u001b[0;32m   1109\u001b[0m                 or _global_forward_hooks or _global_forward_pre_hooks):\n\u001b[1;32m-> 1110\u001b[1;33m             \u001b[1;32mreturn\u001b[0m \u001b[0mforward_call\u001b[0m\u001b[1;33m(\u001b[0m\u001b[1;33m*\u001b[0m\u001b[0minput\u001b[0m\u001b[1;33m,\u001b[0m \u001b[1;33m**\u001b[0m\u001b[0mkwargs\u001b[0m\u001b[1;33m)\u001b[0m\u001b[1;33m\u001b[0m\u001b[1;33m\u001b[0m\u001b[0m\n\u001b[0m\u001b[0;32m   1111\u001b[0m         \u001b[1;31m# Do not call functions when jit is used\u001b[0m\u001b[1;33m\u001b[0m\u001b[1;33m\u001b[0m\u001b[0m\n\u001b[0;32m   1112\u001b[0m         \u001b[0mfull_backward_hooks\u001b[0m\u001b[1;33m,\u001b[0m \u001b[0mnon_full_backward_hooks\u001b[0m \u001b[1;33m=\u001b[0m \u001b[1;33m[\u001b[0m\u001b[1;33m]\u001b[0m\u001b[1;33m,\u001b[0m \u001b[1;33m[\u001b[0m\u001b[1;33m]\u001b[0m\u001b[1;33m\u001b[0m\u001b[1;33m\u001b[0m\u001b[0m\n",
      "\u001b[1;32m~\\Anaconda3\\lib\\site-packages\\transformers\\models\\roberta\\modeling_roberta.py\u001b[0m in \u001b[0;36mforward\u001b[1;34m(self, hidden_states, attention_mask, head_mask, encoder_hidden_states, encoder_attention_mask, past_key_value, output_attentions)\u001b[0m\n\u001b[0;32m    410\u001b[0m         \u001b[1;31m# decoder uni-directional self-attention cached key/values tuple is at positions 1,2\u001b[0m\u001b[1;33m\u001b[0m\u001b[1;33m\u001b[0m\u001b[0m\n\u001b[0;32m    411\u001b[0m         \u001b[0mself_attn_past_key_value\u001b[0m \u001b[1;33m=\u001b[0m \u001b[0mpast_key_value\u001b[0m\u001b[1;33m[\u001b[0m\u001b[1;33m:\u001b[0m\u001b[1;36m2\u001b[0m\u001b[1;33m]\u001b[0m \u001b[1;32mif\u001b[0m \u001b[0mpast_key_value\u001b[0m \u001b[1;32mis\u001b[0m \u001b[1;32mnot\u001b[0m \u001b[1;32mNone\u001b[0m \u001b[1;32melse\u001b[0m \u001b[1;32mNone\u001b[0m\u001b[1;33m\u001b[0m\u001b[1;33m\u001b[0m\u001b[0m\n\u001b[1;32m--> 412\u001b[1;33m         self_attention_outputs = self.attention(\n\u001b[0m\u001b[0;32m    413\u001b[0m             \u001b[0mhidden_states\u001b[0m\u001b[1;33m,\u001b[0m\u001b[1;33m\u001b[0m\u001b[1;33m\u001b[0m\u001b[0m\n\u001b[0;32m    414\u001b[0m             \u001b[0mattention_mask\u001b[0m\u001b[1;33m,\u001b[0m\u001b[1;33m\u001b[0m\u001b[1;33m\u001b[0m\u001b[0m\n",
      "\u001b[1;32m~\\Anaconda3\\lib\\site-packages\\torch\\nn\\modules\\module.py\u001b[0m in \u001b[0;36m_call_impl\u001b[1;34m(self, *input, **kwargs)\u001b[0m\n\u001b[0;32m   1108\u001b[0m         if not (self._backward_hooks or self._forward_hooks or self._forward_pre_hooks or _global_backward_hooks\n\u001b[0;32m   1109\u001b[0m                 or _global_forward_hooks or _global_forward_pre_hooks):\n\u001b[1;32m-> 1110\u001b[1;33m             \u001b[1;32mreturn\u001b[0m \u001b[0mforward_call\u001b[0m\u001b[1;33m(\u001b[0m\u001b[1;33m*\u001b[0m\u001b[0minput\u001b[0m\u001b[1;33m,\u001b[0m \u001b[1;33m**\u001b[0m\u001b[0mkwargs\u001b[0m\u001b[1;33m)\u001b[0m\u001b[1;33m\u001b[0m\u001b[1;33m\u001b[0m\u001b[0m\n\u001b[0m\u001b[0;32m   1111\u001b[0m         \u001b[1;31m# Do not call functions when jit is used\u001b[0m\u001b[1;33m\u001b[0m\u001b[1;33m\u001b[0m\u001b[0m\n\u001b[0;32m   1112\u001b[0m         \u001b[0mfull_backward_hooks\u001b[0m\u001b[1;33m,\u001b[0m \u001b[0mnon_full_backward_hooks\u001b[0m \u001b[1;33m=\u001b[0m \u001b[1;33m[\u001b[0m\u001b[1;33m]\u001b[0m\u001b[1;33m,\u001b[0m \u001b[1;33m[\u001b[0m\u001b[1;33m]\u001b[0m\u001b[1;33m\u001b[0m\u001b[1;33m\u001b[0m\u001b[0m\n",
      "\u001b[1;32m~\\Anaconda3\\lib\\site-packages\\transformers\\models\\roberta\\modeling_roberta.py\u001b[0m in \u001b[0;36mforward\u001b[1;34m(self, hidden_states, attention_mask, head_mask, encoder_hidden_states, encoder_attention_mask, past_key_value, output_attentions)\u001b[0m\n\u001b[0;32m    337\u001b[0m         \u001b[0moutput_attentions\u001b[0m\u001b[1;33m=\u001b[0m\u001b[1;32mFalse\u001b[0m\u001b[1;33m,\u001b[0m\u001b[1;33m\u001b[0m\u001b[1;33m\u001b[0m\u001b[0m\n\u001b[0;32m    338\u001b[0m     ):\n\u001b[1;32m--> 339\u001b[1;33m         self_outputs = self.self(\n\u001b[0m\u001b[0;32m    340\u001b[0m             \u001b[0mhidden_states\u001b[0m\u001b[1;33m,\u001b[0m\u001b[1;33m\u001b[0m\u001b[1;33m\u001b[0m\u001b[0m\n\u001b[0;32m    341\u001b[0m             \u001b[0mattention_mask\u001b[0m\u001b[1;33m,\u001b[0m\u001b[1;33m\u001b[0m\u001b[1;33m\u001b[0m\u001b[0m\n",
      "\u001b[1;32m~\\Anaconda3\\lib\\site-packages\\torch\\nn\\modules\\module.py\u001b[0m in \u001b[0;36m_call_impl\u001b[1;34m(self, *input, **kwargs)\u001b[0m\n\u001b[0;32m   1108\u001b[0m         if not (self._backward_hooks or self._forward_hooks or self._forward_pre_hooks or _global_backward_hooks\n\u001b[0;32m   1109\u001b[0m                 or _global_forward_hooks or _global_forward_pre_hooks):\n\u001b[1;32m-> 1110\u001b[1;33m             \u001b[1;32mreturn\u001b[0m \u001b[0mforward_call\u001b[0m\u001b[1;33m(\u001b[0m\u001b[1;33m*\u001b[0m\u001b[0minput\u001b[0m\u001b[1;33m,\u001b[0m \u001b[1;33m**\u001b[0m\u001b[0mkwargs\u001b[0m\u001b[1;33m)\u001b[0m\u001b[1;33m\u001b[0m\u001b[1;33m\u001b[0m\u001b[0m\n\u001b[0m\u001b[0;32m   1111\u001b[0m         \u001b[1;31m# Do not call functions when jit is used\u001b[0m\u001b[1;33m\u001b[0m\u001b[1;33m\u001b[0m\u001b[0m\n\u001b[0;32m   1112\u001b[0m         \u001b[0mfull_backward_hooks\u001b[0m\u001b[1;33m,\u001b[0m \u001b[0mnon_full_backward_hooks\u001b[0m \u001b[1;33m=\u001b[0m \u001b[1;33m[\u001b[0m\u001b[1;33m]\u001b[0m\u001b[1;33m,\u001b[0m \u001b[1;33m[\u001b[0m\u001b[1;33m]\u001b[0m\u001b[1;33m\u001b[0m\u001b[1;33m\u001b[0m\u001b[0m\n",
      "\u001b[1;32m~\\Anaconda3\\lib\\site-packages\\transformers\\models\\roberta\\modeling_roberta.py\u001b[0m in \u001b[0;36mforward\u001b[1;34m(self, hidden_states, attention_mask, head_mask, encoder_hidden_states, encoder_attention_mask, past_key_value, output_attentions)\u001b[0m\n\u001b[0;32m    223\u001b[0m             \u001b[0mvalue_layer\u001b[0m \u001b[1;33m=\u001b[0m \u001b[0mtorch\u001b[0m\u001b[1;33m.\u001b[0m\u001b[0mcat\u001b[0m\u001b[1;33m(\u001b[0m\u001b[1;33m[\u001b[0m\u001b[0mpast_key_value\u001b[0m\u001b[1;33m[\u001b[0m\u001b[1;36m1\u001b[0m\u001b[1;33m]\u001b[0m\u001b[1;33m,\u001b[0m \u001b[0mvalue_layer\u001b[0m\u001b[1;33m]\u001b[0m\u001b[1;33m,\u001b[0m \u001b[0mdim\u001b[0m\u001b[1;33m=\u001b[0m\u001b[1;36m2\u001b[0m\u001b[1;33m)\u001b[0m\u001b[1;33m\u001b[0m\u001b[1;33m\u001b[0m\u001b[0m\n\u001b[0;32m    224\u001b[0m         \u001b[1;32melse\u001b[0m\u001b[1;33m:\u001b[0m\u001b[1;33m\u001b[0m\u001b[1;33m\u001b[0m\u001b[0m\n\u001b[1;32m--> 225\u001b[1;33m             \u001b[0mkey_layer\u001b[0m \u001b[1;33m=\u001b[0m \u001b[0mself\u001b[0m\u001b[1;33m.\u001b[0m\u001b[0mtranspose_for_scores\u001b[0m\u001b[1;33m(\u001b[0m\u001b[0mself\u001b[0m\u001b[1;33m.\u001b[0m\u001b[0mkey\u001b[0m\u001b[1;33m(\u001b[0m\u001b[0mhidden_states\u001b[0m\u001b[1;33m)\u001b[0m\u001b[1;33m)\u001b[0m\u001b[1;33m\u001b[0m\u001b[1;33m\u001b[0m\u001b[0m\n\u001b[0m\u001b[0;32m    226\u001b[0m             \u001b[0mvalue_layer\u001b[0m \u001b[1;33m=\u001b[0m \u001b[0mself\u001b[0m\u001b[1;33m.\u001b[0m\u001b[0mtranspose_for_scores\u001b[0m\u001b[1;33m(\u001b[0m\u001b[0mself\u001b[0m\u001b[1;33m.\u001b[0m\u001b[0mvalue\u001b[0m\u001b[1;33m(\u001b[0m\u001b[0mhidden_states\u001b[0m\u001b[1;33m)\u001b[0m\u001b[1;33m)\u001b[0m\u001b[1;33m\u001b[0m\u001b[1;33m\u001b[0m\u001b[0m\n\u001b[0;32m    227\u001b[0m \u001b[1;33m\u001b[0m\u001b[0m\n",
      "\u001b[1;32m~\\Anaconda3\\lib\\site-packages\\torch\\nn\\modules\\module.py\u001b[0m in \u001b[0;36m_call_impl\u001b[1;34m(self, *input, **kwargs)\u001b[0m\n\u001b[0;32m   1108\u001b[0m         if not (self._backward_hooks or self._forward_hooks or self._forward_pre_hooks or _global_backward_hooks\n\u001b[0;32m   1109\u001b[0m                 or _global_forward_hooks or _global_forward_pre_hooks):\n\u001b[1;32m-> 1110\u001b[1;33m             \u001b[1;32mreturn\u001b[0m \u001b[0mforward_call\u001b[0m\u001b[1;33m(\u001b[0m\u001b[1;33m*\u001b[0m\u001b[0minput\u001b[0m\u001b[1;33m,\u001b[0m \u001b[1;33m**\u001b[0m\u001b[0mkwargs\u001b[0m\u001b[1;33m)\u001b[0m\u001b[1;33m\u001b[0m\u001b[1;33m\u001b[0m\u001b[0m\n\u001b[0m\u001b[0;32m   1111\u001b[0m         \u001b[1;31m# Do not call functions when jit is used\u001b[0m\u001b[1;33m\u001b[0m\u001b[1;33m\u001b[0m\u001b[0m\n\u001b[0;32m   1112\u001b[0m         \u001b[0mfull_backward_hooks\u001b[0m\u001b[1;33m,\u001b[0m \u001b[0mnon_full_backward_hooks\u001b[0m \u001b[1;33m=\u001b[0m \u001b[1;33m[\u001b[0m\u001b[1;33m]\u001b[0m\u001b[1;33m,\u001b[0m \u001b[1;33m[\u001b[0m\u001b[1;33m]\u001b[0m\u001b[1;33m\u001b[0m\u001b[1;33m\u001b[0m\u001b[0m\n",
      "\u001b[1;32m~\\Anaconda3\\lib\\site-packages\\torch\\nn\\modules\\linear.py\u001b[0m in \u001b[0;36mforward\u001b[1;34m(self, input)\u001b[0m\n\u001b[0;32m    101\u001b[0m \u001b[1;33m\u001b[0m\u001b[0m\n\u001b[0;32m    102\u001b[0m     \u001b[1;32mdef\u001b[0m \u001b[0mforward\u001b[0m\u001b[1;33m(\u001b[0m\u001b[0mself\u001b[0m\u001b[1;33m,\u001b[0m \u001b[0minput\u001b[0m\u001b[1;33m:\u001b[0m \u001b[0mTensor\u001b[0m\u001b[1;33m)\u001b[0m \u001b[1;33m->\u001b[0m \u001b[0mTensor\u001b[0m\u001b[1;33m:\u001b[0m\u001b[1;33m\u001b[0m\u001b[1;33m\u001b[0m\u001b[0m\n\u001b[1;32m--> 103\u001b[1;33m         \u001b[1;32mreturn\u001b[0m \u001b[0mF\u001b[0m\u001b[1;33m.\u001b[0m\u001b[0mlinear\u001b[0m\u001b[1;33m(\u001b[0m\u001b[0minput\u001b[0m\u001b[1;33m,\u001b[0m \u001b[0mself\u001b[0m\u001b[1;33m.\u001b[0m\u001b[0mweight\u001b[0m\u001b[1;33m,\u001b[0m \u001b[0mself\u001b[0m\u001b[1;33m.\u001b[0m\u001b[0mbias\u001b[0m\u001b[1;33m)\u001b[0m\u001b[1;33m\u001b[0m\u001b[1;33m\u001b[0m\u001b[0m\n\u001b[0m\u001b[0;32m    104\u001b[0m \u001b[1;33m\u001b[0m\u001b[0m\n\u001b[0;32m    105\u001b[0m     \u001b[1;32mdef\u001b[0m \u001b[0mextra_repr\u001b[0m\u001b[1;33m(\u001b[0m\u001b[0mself\u001b[0m\u001b[1;33m)\u001b[0m \u001b[1;33m->\u001b[0m \u001b[0mstr\u001b[0m\u001b[1;33m:\u001b[0m\u001b[1;33m\u001b[0m\u001b[1;33m\u001b[0m\u001b[0m\n",
      "\u001b[1;31mKeyboardInterrupt\u001b[0m: "
     ]
    }
   ],
   "source": [
    "for i in range(1000):\n",
    "    for j in range(i+1,1000):\n",
    "        if l[j] and l[i] and (l[j].issubset(l[i]) or l[j].issuperset(l[i])) and len(l[i].intersection(l[j]))>=2:\n",
    "            s,ss=is_similar(i,j)\n",
    "            print(i,j,s,ss)\n",
    "            \n",
    "            "
   ]
  },
  {
   "cell_type": "code",
   "execution_count": 17,
   "id": "aca5792b",
   "metadata": {},
   "outputs": [
    {
     "data": {
      "text/plain": [
       "{'Annie.Fan2@cantire.com',\n",
       " 'Joe.Li@cantire.com',\n",
       " 'Lillian.Li@cantire.com',\n",
       " 'PhaniKumar.Sudha@cantire.com',\n",
       " 'beryl@mingdagroup.com',\n",
       " 'eby@mingdagroup.com',\n",
       " 'linda.luo@mingdagroup.com',\n",
       " 'wangyiwen@mingdagroup.com'}"
      ]
     },
     "execution_count": 17,
     "metadata": {},
     "output_type": "execute_result"
    }
   ],
   "source": [
    "l[38]"
   ]
  },
  {
   "cell_type": "code",
   "execution_count": 18,
   "id": "4e2eaef3",
   "metadata": {},
   "outputs": [
    {
     "data": {
      "text/plain": [
       "{'Annie.Fan2@cantire.com',\n",
       " 'Joe.Li@cantire.com',\n",
       " 'Lillian.Li@cantire.com',\n",
       " 'PhaniKumar.Sudha@cantire.com',\n",
       " 'beryl@mingdagroup.com',\n",
       " 'eby@mingdagroup.com',\n",
       " 'linda.luo@mingdagroup.com',\n",
       " 'wangyiwen@mingdagroup.com'}"
      ]
     },
     "execution_count": 18,
     "metadata": {},
     "output_type": "execute_result"
    }
   ],
   "source": [
    "l[608]"
   ]
  },
  {
   "cell_type": "code",
   "execution_count": 22,
   "id": "e9e46b3e",
   "metadata": {
    "scrolled": false
   },
   "outputs": [
    {
     "name": "stdout",
     "output_type": "stream",
     "text": [
      "{'to_be_indexed': True, 'from': ['Joe.Li@cantire.com'], 'from_name': ['Joe Li'], 'to': ['linda.luo@mingdagroup.com'], 'to_name': ['linda.luo@mingdagroup.com'], 'cc': ['beryl@mingdagroup.com', 'wangyiwen@mingdagroup.com', 'eby@mingdagroup.com', 'Annie.Fan2@cantire.com', 'PhaniKumar.Sudha@cantire.com', 'Lillian.Li@cantire.com'], 'cc_name': ['=?utf-8?B?6LW16IiS6Zuv?=', '=?utf-8?B?5rGq6Im66Zuv?=', '=?utf-8?B?6LCi55uK6JCN?=', 'Annie.Fan', 'Phani Kumar Sudha', 'Lillian Li'], 'subject': \"RE: 2D-320 / T & 3A T's replenishment programs\", 'thread-topic': \"2D-320 / T & 3A T's replenishment programs\", 'thread-index': 'AdY9OXcdf4LzDgnAQMWagNw+OuphGg==', 'date': '06/08/2020', 'message-id': 'YTOPR0101MB0889E89CC541A176102381B498850@YTOPR0101MB0889.CANPRD01.PROD.OUTLOOK.COM'}\n"
     ]
    }
   ],
   "source": [
    "print(res['hits']['hits'][38]['_source']['metaData'])"
   ]
  },
  {
   "cell_type": "code",
   "execution_count": 21,
   "id": "789bd017",
   "metadata": {
    "scrolled": false
   },
   "outputs": [
    {
     "name": "stdout",
     "output_type": "stream",
     "text": [
      "{'to_be_indexed': True, 'message-id': '5ede1a29.1c69fb81.84a40.1f37SMTPIN_ADDED_BROKEN@mx.google.com', 'date': '06/08/2020', 'from': ['linda.luo@mingdagroup.com'], 'from_name': ['linda.luo@mingdagroup.com'], 'to': ['Joe.Li@cantire.com'], 'to_name': ['joe.li'], 'cc': ['beryl@mingdagroup.com', 'wangyiwen@mingdagroup.com', 'eby@mingdagroup.com', 'Annie.Fan2@cantire.com', 'PhaniKumar.Sudha@cantire.com', 'Lillian.Li@cantire.com'], 'cc_name': ['=?UTF-8?B?6LW16IiS6Zuv?=', '=?UTF-8?B?5rGq6Im66Zuv?=', '=?UTF-8?B?6LCi55uK6JCN?=', 'Annie.Fan2', 'Phani Kumar Sudha', 'Lillian Li'], 'subject': \"Re: RE: 2D-320 / T & 3A T's replenishment programs\"}\n"
     ]
    }
   ],
   "source": [
    "print(res['hits']['hits'][608]['_source']['metaData'])"
   ]
  },
  {
   "cell_type": "code",
   "execution_count": null,
   "id": "88f5281d",
   "metadata": {},
   "outputs": [],
   "source": [
    "import json\n"
   ]
  },
  {
   "cell_type": "code",
   "execution_count": 24,
   "id": "8480f798",
   "metadata": {},
   "outputs": [],
   "source": [
    "l='''17 54 0 1.0\n",
    "18 589 0 1.0\n",
    "25 27 0 0\n",
    "25 688 0 0\n",
    "25 689 0 0\n",
    "27 688 0 0\n",
    "27 689 0 0\n",
    "38 505 0 0\n",
    "38 608 0 1.0\n",
    "38 609 0 1.0\n",
    "42 120 0 1.0\n",
    "51 424 0 1.0\n",
    "58 511 0 0\n",
    "65 453 0 1.0\n",
    "76 193 0 1.0\n",
    "77 362 0 1.0\n",
    "77 376 0 1.0\n",
    "80 339 0 0\n",
    "84 86 0 0\n",
    "100 263 0 1.0\n",
    "120 607 0 1.0\n",
    "133 261 0 1.0\n",
    "134 486 0 1.0\n",
    "134 937 0 0\n",
    "141 149 0 0\n",
    "141 157 0 1.0\n",
    "141 271 0 1.0\n",
    "149 157 0 0\n",
    "149 271 0 0\n",
    "156 456 0 1.0'''"
   ]
  },
  {
   "cell_type": "code",
   "execution_count": 26,
   "id": "37f142d2",
   "metadata": {},
   "outputs": [],
   "source": [
    "ind=[]\n",
    "for i in l.split('\\n'):\n",
    "    k=i.split()\n",
    "    ind.append((int(k[0]),int(k[1])))"
   ]
  },
  {
   "cell_type": "code",
   "execution_count": 33,
   "id": "51980e44",
   "metadata": {
    "scrolled": false
   },
   "outputs": [
    {
     "name": "stdout",
     "output_type": "stream",
     "text": [
      "{\"to_be_indexed\": true, \"from\": [\"Misha.Mistry@cantire.com\"], \"from_name\": [\"Misha Mistry\"], \"to\": [\"AvanTroost@fluidmaster.com\"], \"to_name\": [\"Anthony van Troost\"], \"cc\": [\"JStephenson@fluidmaster.com\"], \"cc_name\": [\"John Stephenson\"], \"subject\": \"RE: [External] RE: Transition plan\", \"thread-topic\": \"[External] RE: Transition plan\", \"thread-index\": \"AdY0/yLCEskzTAOKTDWk5SGnMsB+BwAPhjlAASq7wNAAI2fBAAAAJc8wAAAadoA=\", \"date\": \"06/04/2020\", \"message-id\": \"YTBPR01MB3789F813E4749AF1ABCD1E208B890@YTBPR01MB3789.CANPRD01.PROD.OUTLOOK.COM\", \"in-reply-to\": \"MW3PR19MB42498393F20DF6C62046ECFBC2890@MW3PR19MB4249.namprd19.prod.outlook.com\"}\n",
      "\n",
      "{\"to_be_indexed\": true, \"from\": [\"Misha.Mistry@cantire.com\"], \"from_name\": [\"Misha Mistry\"], \"to\": [\"AvanTroost@fluidmaster.com\"], \"to_name\": [\"Anthony van Troost\"], \"cc\": [\"JStephenson@fluidmaster.com\"], \"cc_name\": [\"John Stephenson\"], \"subject\": \"RE: Transition plan\", \"thread-topic\": \"Transition plan\", \"thread-index\": \"AdY0/yLCEskzTAOKTDWk5SGnMsB+BwAPhjlAASq7wNAAI2fBAA==\", \"date\": \"06/04/2020\", \"message-id\": \"YTBPR01MB3789D109C076466FB303582D8B890@YTBPR01MB3789.CANPRD01.PROD.OUTLOOK.COM\", \"in-reply-to\": \"YTBPR01MB3789D85A129D2ED7191959E08B880@YTBPR01MB3789.CANPRD01.PROD.OUTLOOK.COM\"}\n",
      "\n",
      "********************************************&&********************************************************\n",
      "\n",
      "{\"to_be_indexed\": true, \"message-id\": \"5eddc5eb.1c69fb81.3376.d0e8SMTPIN_ADDED_BROKEN@mx.google.com\", \"date\": \"06/08/2020\", \"from\": [\"sjr@sumex.com.cn\"], \"from_name\": [\"sjr@sumex.com.cn\"], \"to\": [\"Jason.Lu@cantire.com\"], \"to_name\": [\"Jason Lu\"], \"cc\": [\"april.chen@aon-cofco.com.cn\", \"Cherry.Wang@cantire.com\", \"shaofeng@sumex.com.cn\", \"cf@sumex.com.cn\"], \"cc_name\": [\"April Chen\", \"Cherry Wang\", \"shaofeng\", \"ivy\"], \"subject\": \"Re: RE: PLI renew Sainty V5111\"}\n",
      "\n",
      "{\"to_be_indexed\": true, \"message-id\": \"5ed49ada.1c69fb81.f80a4.98edSMTPIN_ADDED_BROKEN@mx.google.com\", \"date\": \"06/01/2020\", \"from\": [\"shaofeng@sumex.com.cn\"], \"from_name\": [\"shaofeng@sumex.com.cn\"], \"to\": [\"Jason.Lu@cantire.com\", \"cf@sumex.com.cn\", \"sjr@sumex.com.cn\"], \"to_name\": [\"Jason.lu\", \"ivy\", \"=?UTF-8?B?5pe25ZiJ6JOJ?=\"], \"cc\": [\"april.chen@aon-cofco.com.cn\", \"Cherry.Wang@cantire.com\"], \"cc_name\": [\"April Chen\", \"CherryWang\"], \"subject\": \"Re: RE: PLI renew Sainty V5111\"}\n",
      "\n",
      "********************************************&&********************************************************\n",
      "\n",
      "{\"to_be_indexed\": true, \"from\": [\"FLEXBilling@cantire.com\"], \"from_name\": [\"FLEX Billing\"], \"to\": [\"Andrea.DSouza@cantire.com\"], \"to_name\": [\"Andrea D'Souza\"], \"subject\": \"FW: DC022 InvoiceNumber 1561273\", \"thread-topic\": \"DC022 InvoiceNumber 1561273\", \"thread-index\": \"AQHWOjmc21zA5dH/q0q+q8iI/PNXXajIV/Ug\", \"date\": \"06/04/2020\", \"message-id\": \"YT1PR01MB2891C227E27399ED894679A5F0890@YT1PR01MB2891.CANPRD01.PROD.OUTLOOK.COM\", \"in-reply-to\": \"-597629234.14308.1591252354296.JavaMail.jmsmquser@vcr-cas1\"}\n",
      "\n",
      "{\"to_be_indexed\": true, \"from\": [\"FLEXBilling@cantire.com\"], \"from_name\": [\"FLEX Billing\"], \"to\": [\"Andrea.DSouza@cantire.com\"], \"to_name\": [\"Andrea D'Souza\"], \"subject\": \"FW: DC022 InvoiceNumber 1560481\", \"thread-topic\": \"DC022 InvoiceNumber 1560481\", \"thread-index\": \"AQHWOjmO474WqzUrvk+ooHTGqVo3GKjIWBFQ\", \"date\": \"06/04/2020\", \"message-id\": \"YT1PR01MB28914D9ED565485E4A6DE9B7F0890@YT1PR01MB2891.CANPRD01.PROD.OUTLOOK.COM\", \"in-reply-to\": \"1902671238.13850.1591252324745.JavaMail.jmsmquser@vcr-cas1\"}\n",
      "\n",
      "********************************************&&********************************************************\n",
      "\n",
      "{\"to_be_indexed\": true, \"from\": [\"FLEXBilling@cantire.com\"], \"from_name\": [\"FLEX Billing\"], \"to\": [\"Andrea.DSouza@cantire.com\"], \"to_name\": [\"Andrea D'Souza\"], \"subject\": \"FW: DC022 InvoiceNumber 1561273\", \"thread-topic\": \"DC022 InvoiceNumber 1561273\", \"thread-index\": \"AQHWOjmc21zA5dH/q0q+q8iI/PNXXajIV/Ug\", \"date\": \"06/04/2020\", \"message-id\": \"YT1PR01MB2891C227E27399ED894679A5F0890@YT1PR01MB2891.CANPRD01.PROD.OUTLOOK.COM\", \"in-reply-to\": \"-597629234.14308.1591252354296.JavaMail.jmsmquser@vcr-cas1\"}\n",
      "\n",
      "{\"to_be_indexed\": true, \"from\": [\"FLEXBilling@cantire.com\"], \"from_name\": [\"FLEX Billing\"], \"to\": [\"Andrea.DSouza@cantire.com\"], \"to_name\": [\"Andrea D'Souza\"], \"subject\": \"FW: DC022 InvoiceNumber 1601248\", \"thread-topic\": \"DC022 InvoiceNumber 1601248\", \"thread-index\": \"AQHWPWRqYmVX+KbFiEqKfvja6f0H3KjOlg5A\", \"date\": \"06/08/2020\", \"message-id\": \"YT1PR01MB2891185B9CF31C80C56F4035F0850@YT1PR01MB2891.CANPRD01.PROD.OUTLOOK.COM\", \"in-reply-to\": \"1909240703.8483.1591600588873.JavaMail.jmsmquser@vcr-cas1\"}\n",
      "\n",
      "********************************************&&********************************************************\n",
      "\n",
      "{\"to_be_indexed\": true, \"from\": [\"FLEXBilling@cantire.com\"], \"from_name\": [\"FLEX Billing\"], \"to\": [\"Andrea.DSouza@cantire.com\"], \"to_name\": [\"Andrea D'Souza\"], \"subject\": \"FW: DC022 InvoiceNumber 1561273\", \"thread-topic\": \"DC022 InvoiceNumber 1561273\", \"thread-index\": \"AQHWOjmc21zA5dH/q0q+q8iI/PNXXajIV/Ug\", \"date\": \"06/04/2020\", \"message-id\": \"YT1PR01MB2891C227E27399ED894679A5F0890@YT1PR01MB2891.CANPRD01.PROD.OUTLOOK.COM\", \"in-reply-to\": \"-597629234.14308.1591252354296.JavaMail.jmsmquser@vcr-cas1\"}\n",
      "\n",
      "{\"to_be_indexed\": true, \"from\": [\"FLEXBilling@cantire.com\"], \"from_name\": [\"FLEX Billing\"], \"to\": [\"Andrea.DSouza@cantire.com\"], \"to_name\": [\"Andrea D'Souza\"], \"subject\": \"FW: DC022 InvoiceNumber 1600605\", \"thread-topic\": \"DC022 InvoiceNumber 1600605\", \"thread-index\": \"AQHWPWRbjcoPiVlujEa1LykpFOZ6AajOliaQ\", \"date\": \"06/08/2020\", \"message-id\": \"YT1PR01MB28915593A3C8D03DE49A4EFEF0850@YT1PR01MB2891.CANPRD01.PROD.OUTLOOK.COM\", \"in-reply-to\": \"1788237378.8107.1591600565564.JavaMail.jmsmquser@vcr-cas1\"}\n",
      "\n",
      "********************************************&&********************************************************\n",
      "\n",
      "{\"to_be_indexed\": true, \"from\": [\"FLEXBilling@cantire.com\"], \"from_name\": [\"FLEX Billing\"], \"to\": [\"Andrea.DSouza@cantire.com\"], \"to_name\": [\"Andrea D'Souza\"], \"subject\": \"FW: DC022 InvoiceNumber 1560481\", \"thread-topic\": \"DC022 InvoiceNumber 1560481\", \"thread-index\": \"AQHWOjmO474WqzUrvk+ooHTGqVo3GKjIWBFQ\", \"date\": \"06/04/2020\", \"message-id\": \"YT1PR01MB28914D9ED565485E4A6DE9B7F0890@YT1PR01MB2891.CANPRD01.PROD.OUTLOOK.COM\", \"in-reply-to\": \"1902671238.13850.1591252324745.JavaMail.jmsmquser@vcr-cas1\"}\n",
      "\n",
      "{\"to_be_indexed\": true, \"from\": [\"FLEXBilling@cantire.com\"], \"from_name\": [\"FLEX Billing\"], \"to\": [\"Andrea.DSouza@cantire.com\"], \"to_name\": [\"Andrea D'Souza\"], \"subject\": \"FW: DC022 InvoiceNumber 1601248\", \"thread-topic\": \"DC022 InvoiceNumber 1601248\", \"thread-index\": \"AQHWPWRqYmVX+KbFiEqKfvja6f0H3KjOlg5A\", \"date\": \"06/08/2020\", \"message-id\": \"YT1PR01MB2891185B9CF31C80C56F4035F0850@YT1PR01MB2891.CANPRD01.PROD.OUTLOOK.COM\", \"in-reply-to\": \"1909240703.8483.1591600588873.JavaMail.jmsmquser@vcr-cas1\"}\n",
      "\n",
      "********************************************&&********************************************************\n",
      "\n",
      "{\"to_be_indexed\": true, \"from\": [\"FLEXBilling@cantire.com\"], \"from_name\": [\"FLEX Billing\"], \"to\": [\"Andrea.DSouza@cantire.com\"], \"to_name\": [\"Andrea D'Souza\"], \"subject\": \"FW: DC022 InvoiceNumber 1560481\", \"thread-topic\": \"DC022 InvoiceNumber 1560481\", \"thread-index\": \"AQHWOjmO474WqzUrvk+ooHTGqVo3GKjIWBFQ\", \"date\": \"06/04/2020\", \"message-id\": \"YT1PR01MB28914D9ED565485E4A6DE9B7F0890@YT1PR01MB2891.CANPRD01.PROD.OUTLOOK.COM\", \"in-reply-to\": \"1902671238.13850.1591252324745.JavaMail.jmsmquser@vcr-cas1\"}\n",
      "\n",
      "{\"to_be_indexed\": true, \"from\": [\"FLEXBilling@cantire.com\"], \"from_name\": [\"FLEX Billing\"], \"to\": [\"Andrea.DSouza@cantire.com\"], \"to_name\": [\"Andrea D'Souza\"], \"subject\": \"FW: DC022 InvoiceNumber 1600605\", \"thread-topic\": \"DC022 InvoiceNumber 1600605\", \"thread-index\": \"AQHWPWRbjcoPiVlujEa1LykpFOZ6AajOliaQ\", \"date\": \"06/08/2020\", \"message-id\": \"YT1PR01MB28915593A3C8D03DE49A4EFEF0850@YT1PR01MB2891.CANPRD01.PROD.OUTLOOK.COM\", \"in-reply-to\": \"1788237378.8107.1591600565564.JavaMail.jmsmquser@vcr-cas1\"}\n",
      "\n",
      "********************************************&&********************************************************\n",
      "\n",
      "{\"to_be_indexed\": true, \"from\": [\"Joe.Li@cantire.com\"], \"from_name\": [\"Joe Li\"], \"to\": [\"linda.luo@mingdagroup.com\"], \"to_name\": [\"linda.luo@mingdagroup.com\"], \"cc\": [\"beryl@mingdagroup.com\", \"wangyiwen@mingdagroup.com\", \"eby@mingdagroup.com\", \"Annie.Fan2@cantire.com\", \"PhaniKumar.Sudha@cantire.com\", \"Lillian.Li@cantire.com\"], \"cc_name\": [\"=?utf-8?B?6LW16IiS6Zuv?=\", \"=?utf-8?B?5rGq6Im66Zuv?=\", \"=?utf-8?B?6LCi55uK6JCN?=\", \"Annie.Fan\", \"Phani Kumar Sudha\", \"Lillian Li\"], \"subject\": \"RE: 2D-320 / T & 3A T's replenishment programs\", \"thread-topic\": \"2D-320 / T & 3A T's replenishment programs\", \"thread-index\": \"AdY9OXcdf4LzDgnAQMWagNw+OuphGg==\", \"date\": \"06/08/2020\", \"message-id\": \"YTOPR0101MB0889E89CC541A176102381B498850@YTOPR0101MB0889.CANPRD01.PROD.OUTLOOK.COM\"}\n",
      "\n",
      "{\"to_be_indexed\": true, \"message-id\": \"5ed9c378.1c69fb81.ca0ce.3629SMTPIN_ADDED_BROKEN@mx.google.com\", \"date\": \"06/05/2020\", \"from\": [\"eby@mingdagroup.com\"], \"from_name\": [\"eby@mingdagroup.com\"], \"to\": [\"Joe.Li@cantire.com\", \"PhaniKumar.Sudha@cantire.com\", \"linda.luo@mingdagroup.com\"], \"to_name\": [\"=?UTF-8?B?Sm9lwqBMaQ==?=\", \"Phani Kumar Sudha\", \"linda.luo\"], \"cc\": [\"Annie.Fan2@cantire.com\", \"beryl@mingdagroup.com\", \"Lillian.Li@cantire.com\", \"Tony.Hoang@cantire.com\", \"wangyiwen@mingdagroup.com\", \"Chenda.Touch@cantire.com\"], \"cc_name\": [\"Annie.Fan\", \"beryl\", \"Lillian Li\", \"Tony Hoang\", \"wangyiwen@mingdagroup.com\", \"Chenda Touch\"], \"subject\": \"Re: RE: NEW MINGDA WIP May.28\"}\n",
      "\n",
      "********************************************&&********************************************************\n",
      "\n",
      "{\"to_be_indexed\": true, \"from\": [\"Joe.Li@cantire.com\"], \"from_name\": [\"Joe Li\"], \"to\": [\"linda.luo@mingdagroup.com\"], \"to_name\": [\"linda.luo@mingdagroup.com\"], \"cc\": [\"beryl@mingdagroup.com\", \"wangyiwen@mingdagroup.com\", \"eby@mingdagroup.com\", \"Annie.Fan2@cantire.com\", \"PhaniKumar.Sudha@cantire.com\", \"Lillian.Li@cantire.com\"], \"cc_name\": [\"=?utf-8?B?6LW16IiS6Zuv?=\", \"=?utf-8?B?5rGq6Im66Zuv?=\", \"=?utf-8?B?6LCi55uK6JCN?=\", \"Annie.Fan\", \"Phani Kumar Sudha\", \"Lillian Li\"], \"subject\": \"RE: 2D-320 / T & 3A T's replenishment programs\", \"thread-topic\": \"2D-320 / T & 3A T's replenishment programs\", \"thread-index\": \"AdY9OXcdf4LzDgnAQMWagNw+OuphGg==\", \"date\": \"06/08/2020\", \"message-id\": \"YTOPR0101MB0889E89CC541A176102381B498850@YTOPR0101MB0889.CANPRD01.PROD.OUTLOOK.COM\"}\n",
      "\n",
      "{\"to_be_indexed\": true, \"message-id\": \"5ede1a29.1c69fb81.84a40.1f37SMTPIN_ADDED_BROKEN@mx.google.com\", \"date\": \"06/08/2020\", \"from\": [\"linda.luo@mingdagroup.com\"], \"from_name\": [\"linda.luo@mingdagroup.com\"], \"to\": [\"Joe.Li@cantire.com\"], \"to_name\": [\"joe.li\"], \"cc\": [\"beryl@mingdagroup.com\", \"wangyiwen@mingdagroup.com\", \"eby@mingdagroup.com\", \"Annie.Fan2@cantire.com\", \"PhaniKumar.Sudha@cantire.com\", \"Lillian.Li@cantire.com\"], \"cc_name\": [\"=?UTF-8?B?6LW16IiS6Zuv?=\", \"=?UTF-8?B?5rGq6Im66Zuv?=\", \"=?UTF-8?B?6LCi55uK6JCN?=\", \"Annie.Fan2\", \"Phani Kumar Sudha\", \"Lillian Li\"], \"subject\": \"Re: RE: 2D-320 / T & 3A T's replenishment programs\"}\n",
      "\n",
      "********************************************&&********************************************************\n",
      "\n",
      "{\"to_be_indexed\": true, \"from\": [\"Joe.Li@cantire.com\"], \"from_name\": [\"Joe Li\"], \"to\": [\"linda.luo@mingdagroup.com\"], \"to_name\": [\"linda.luo@mingdagroup.com\"], \"cc\": [\"beryl@mingdagroup.com\", \"wangyiwen@mingdagroup.com\", \"eby@mingdagroup.com\", \"Annie.Fan2@cantire.com\", \"PhaniKumar.Sudha@cantire.com\", \"Lillian.Li@cantire.com\"], \"cc_name\": [\"=?utf-8?B?6LW16IiS6Zuv?=\", \"=?utf-8?B?5rGq6Im66Zuv?=\", \"=?utf-8?B?6LCi55uK6JCN?=\", \"Annie.Fan\", \"Phani Kumar Sudha\", \"Lillian Li\"], \"subject\": \"RE: 2D-320 / T & 3A T's replenishment programs\", \"thread-topic\": \"2D-320 / T & 3A T's replenishment programs\", \"thread-index\": \"AdY9OXcdf4LzDgnAQMWagNw+OuphGg==\", \"date\": \"06/08/2020\", \"message-id\": \"YTOPR0101MB0889E89CC541A176102381B498850@YTOPR0101MB0889.CANPRD01.PROD.OUTLOOK.COM\"}\n",
      "\n",
      "{\"to_be_indexed\": true, \"message-id\": \"5ede1a2d.1c69fb81.ffe55.9193SMTPIN_ADDED_BROKEN@mx.google.com\", \"date\": \"06/08/2020\", \"from\": [\"linda.luo@mingdagroup.com\"], \"from_name\": [\"linda.luo@mingdagroup.com\"], \"to\": [\"Joe.Li@cantire.com\"], \"to_name\": [\"joe.li\"], \"cc\": [\"beryl@mingdagroup.com\", \"wangyiwen@mingdagroup.com\", \"eby@mingdagroup.com\", \"Annie.Fan2@cantire.com\", \"PhaniKumar.Sudha@cantire.com\", \"Lillian.Li@cantire.com\"], \"cc_name\": [\"=?UTF-8?B?6LW16IiS6Zuv?=\", \"=?UTF-8?B?5rGq6Im66Zuv?=\", \"=?UTF-8?B?6LCi55uK6JCN?=\", \"Annie.Fan2\", \"Phani Kumar Sudha\", \"Lillian Li\"], \"subject\": \"Re: RE: 2D-320 / T & 3A T's replenishment programs\"}\n",
      "\n",
      "********************************************&&********************************************************\n",
      "\n",
      "{\"to_be_indexed\": true, \"from\": [\"Clement.Lacroix@marks.com\"], \"from_name\": [\"Clement Lacroix\"], \"to\": [\"Rachaelle.Rempe@inasports.com\", \"Sushmitha.Devajaran@inasports.com\"], \"to_name\": [\"Rachaelle Rempe\", \"Sushmitha Devarajan\"], \"cc\": [\"Nicola.Kieran@inasports.com\"], \"cc_name\": [\"Nicola Kieran\"], \"subject\": \"FW: S21 Mark's No Fly Zone price\", \"thread-topic\": \"S21 Mark's No Fly Zone price\", \"thread-index\": \"AdY5o+Xxxz0f8ItfS1iwW5MHfvGIdQADCCvw\", \"date\": \"06/03/2020\", \"message-id\": \"YQXPR0101MB23112A9D8AABA3F677536DE3E7880@YQXPR0101MB2311.CANPRD01.PROD.OUTLOOK.COM\", \"in-reply-to\": \"4928f4e301c243e39f2911c4a0f46223@viexch01.vitradom.com.tw\"}\n",
      "\n",
      "{\"to_be_indexed\": true, \"from\": [\"wendy.tseng@vastfocus.com.tw\"], \"from_name\": [\"vi-Wendy Tseng\"], \"to\": [\"Rachaelle.Rempe@inasports.com\", \"Clement.Lacroix@marks.com\", \"Sushmitha.Devajaran@inasports.com\"], \"to_name\": [\"Rachaelle Rempe\", \"Clement Lacroix\", \"Sushmitha Devarajan\"], \"cc\": [\"Amitava.Roy@cantire.com\", \"Annie.Fan2@cantire.com\", \"Jane.Zhu@cantire.com\", \"Pauline.Bao@cantire.com\", \"sandra.lee@vastfocus.com.tw\", \"vita.chang@vastfocus.com.tw\", \"may.huang@vastfocus.com.tw\", \"Harpreet.Heer@cantire.com\", \"Nicola.Kieran@inasports.com\", \"Ying.Sha@cantire.com\", \"jimmy.shen@vastfocus.com.tw\", \"Kathryn.Lukey@marks.com\", \"Katy.Wood@fglsports.com\", \"sandra.lee@vastfocus.com.tw\", \"vivian.huang@vastintl.com.tw\", \"vast@vastfocus.com.tw\"], \"cc_name\": [\"Amitava Roy\", \"Annie.Fan\", \"Jane Zhu\", \"Pauline Bao\", \"vi-Sandra Lee\", \"vi-Vita Chang\", \"vi-May Huang\", \"Harpreet Heer\", \"Nicola Kieran\", \"Ying Sha\", \"vi-Jimmy Shen\", \"Kathryn Lukey\", \"Katy Wood\", \"vi-Sandra Lee\", \"vi-Vivian Huang\", \"vi-Vast\"], \"subject\": \"S21 Mark's No Fly Zone price\", \"thread-topic\": \"S21 Mark's No Fly Zone price\", \"thread-index\": \"AdY5o+Xxxz0f8ItfS1iwW5MHfvGIdQ==\", \"date\": \"06/03/2020\", \"message-id\": \"4928f4e301c243e39f2911c4a0f46223@viexch01.vitradom.com.tw\"}\n",
      "\n",
      "********************************************&&********************************************************\n",
      "\n",
      "{\"to_be_indexed\": true, \"from\": [\"Raji.Randhawa@cantire.com\"], \"from_name\": [\"Raji Randhawa\"], \"to\": [\"Derek.Wishart@cantire.com\", \"Neha.Arora@cantire.com\", \"Erwin.Consolacion@cantire.com\", \"Kim.Le@cantire.com\"], \"to_name\": [\"Derek Wishart\", \"Neha Arora\", \"Erwin Consolacion\", \"Kim Le\"], \"cc\": [\"Brielle.Dumas@cantire.com\", \"Laura.Master@cantire.com\", \"Geoffrey.Hendra@cantire.com\"], \"cc_name\": [\"Brielle Dumas\", \"Laura Master\", \"Geoffrey Hendra\"], \"subject\": \"RE: ASSP Transition\", \"thread-topic\": \"ASSP Transition\", \"thread-index\": \"AdY6bwvQOrZ6hGsASeSQolD8dj3DrwABx7Ug\", \"date\": \"06/04/2020\", \"message-id\": \"YT1PR01MB257032A74AAE083C52B2DEDBEB890@YT1PR01MB2570.CANPRD01.PROD.OUTLOOK.COM\", \"in-reply-to\": \"YTXPR0101MB179078A2C971B67B95E42176E2890@YTXPR0101MB1790.CANPRD01.PROD.OUTLOOK.COM\"}\n",
      "\n",
      "{\"to_be_indexed\": true, \"from\": [\"Laura.Master@cantire.com\"], \"from_name\": [\"Laura Master\"], \"to\": [\"Derek.Wishart@cantire.com\"], \"to_name\": [\"Derek Wishart\"], \"cc\": [\"Geoffrey.Hendra@cantire.com\"], \"cc_name\": [\"Geoffrey Hendra\"], \"subject\": \"RE: ASSP Transition\", \"thread-topic\": \"ASSP Transition\", \"thread-index\": \"AdY6bwvQOrZ6hGsASeSQolD8dj3DrwAXLyZAAAAGzEA=\", \"date\": \"06/05/2020\", \"message-id\": \"YTBPR01MB35208ECFE8876E1C4E5BCA1B8A860@YTBPR01MB3520.CANPRD01.PROD.OUTLOOK.COM\", \"in-reply-to\": \"YTBPR01MB35207C0BF7A98180948E43628A890@YTBPR01MB3520.CANPRD01.PROD.OUTLOOK.COM\"}\n",
      "\n",
      "********************************************&&********************************************************\n",
      "\n",
      "{\"to_be_indexed\": true, \"from\": [\"isabelleiavicoli@videotron.ca\"], \"from_name\": [\"Isabelle iavicoli\"], \"to\": [\"Claude.Richard@fglsports.com\"], \"to_name\": [\"Claude Richard\"], \"message-id\": \"bf4d421244b3a.5ed77604@videotron.ca\", \"date\": \"06/03/2020\", \"subject\": \"Re : RE: cancellation juillet et rv\", \"in-reply-to\": \"gSqnjkieqa35cgSqojlZTE@videotron.ca\"}\n",
      "\n",
      "{\"to_be_indexed\": true, \"from\": [\"Claude.Richard@fglsports.com\"], \"from_name\": [\"Claude Richard\"], \"to\": [\"isabelleiavicoli@videotron.ca\"], \"to_name\": [\"isabelleiavicoli@videotron.ca\"], \"subject\": \"RE: cancellation juillet et rv\", \"thread-topic\": \"cancellation juillet et rv\", \"thread-index\": \"AQHWOPdlrvak80mN+UaxzhrQsG//yqjG2KCw\", \"date\": \"06/03/2020\", \"message-id\": \"YQBPR0101MB1300BED2CD221CD986AD4F7F92880@YQBPR0101MB1300.CANPRD01.PROD.OUTLOOK.COM\", \"in-reply-to\": \"bf4c7e13391e7.5ed64020@videotron.ca\"}\n",
      "\n",
      "********************************************&&********************************************************\n",
      "\n",
      "{\"to_be_indexed\": true, \"from\": [\"Bradley@Deejayinc.Com\"], \"from_name\": [\"Bradley Barakett\"], \"to\": [\"Chris.Stewart@cantire.com\"], \"to_name\": [\"Chris Stewart\"], \"cc\": [\"Valentina.Juzukonis@cantire.com\", \"Ray@Deejayinc.Com\"], \"cc_name\": [\"Valentina Juzukonis\", \"Ray Chan\"], \"subject\": \"Re: SKU 0596559\", \"thread-topic\": \"SKU 0596559\", \"thread-index\": \"AQHWNFVjDT5doh94+0Cc/ruxuFj0cqi8QmCAgAAHPECAARfh0IAAAVOAgABMPYCAAArF8IAIh0WAgABgWEKAAENdwIAAAouAgAAYhwCAAAx/AIAAOfBwgAAHDQCAARgk4w==\", \"date\": \"06/04/2020\", \"message-id\": \"2EF87384-D233-47EB-A28B-EBAD6C759006@Deejayinc.Com\", \"in-reply-to\": \"YTBPR01MB2512F9C2D28DBCFFA41F53D9EC880@YTBPR01MB2512.CANPRD01.PROD.OUTLOOK.COM\"}\n",
      "\n",
      "{\"to_be_indexed\": true, \"from\": [\"Chris.Stewart@cantire.com\"], \"from_name\": [\"Chris Stewart\"], \"to\": [\"Bradley@Deejayinc.Com\", \"Valentina.Juzukonis@cantire.com\"], \"to_name\": [\"Bradley Barakett\", \"Valentina Juzukonis\"], \"cc\": [\"Ray@Deejayinc.Com\"], \"cc_name\": [\"Ray Chan\"], \"subject\": \"RE: SKU 0596559\", \"thread-topic\": \"SKU 0596559\", \"thread-index\": \"AQHWNFVmCsllY4cUj0GPmuEfnQOfGai8QlQggAAHqoCAARg9AIAAAGYpgABMbICAAArhgIAIhiIg\", \"date\": \"06/03/2020\", \"message-id\": \"YT1PR01MB2508F44B9117C7693DF429D6EC880@YT1PR01MB2508.CANPRD01.PROD.OUTLOOK.COM\", \"in-reply-to\": \"QB1PR01MB3075BDABFAEF4EF5EA32C0E4A28E0@QB1PR01MB3075.CANPRD01.PROD.OUTLOOK.COM\"}\n",
      "\n",
      "********************************************&&********************************************************\n",
      "\n",
      "{\"to_be_indexed\": true, \"from\": [\"eric@marathonsalesint.com\"], \"from_name\": [\"Eric Liebovitz\"], \"to\": [\"Zachary.Zeraldo@cantire.com\", \"Andy.Morin@ctfs.com\"], \"to_name\": [\"'Zachary Zeraldo'\", \"'Andy Morin'\"], \"in-reply-to\": \"YTOPR0101MB16595E7B9C010CB29640B76DEC890@YTOPR0101MB1659.CANPRD01.PROD.OUTLOOK.COM\", \"subject\": \"RE: Re: Returns and Exchanges #1135990-1797083-2161657#\", \"date\": \"06/04/2020\", \"message-id\": \"00da01d63a77$cb663280$62329780$@marathonsalesint.com\", \"thread-index\": \"AQGZbUxoya1Qjs18Q39Xl9U9B5dqTgJbsaAjAqbrrZABqp/p4akMqvew\"}\n",
      "\n",
      "{\"to_be_indexed\": true, \"from\": [\"Andy.Morin@ctfs.com\"], \"from_name\": [\"Andy Morin\"], \"to\": [\"eric@marathonsalesint.com\", \"Zachary.Zeraldo@cantire.com\"], \"to_name\": [\"Eric Liebovitz\", \"Zachary Zeraldo\"], \"subject\": \"RE: Re: Returns and Exchanges #1135990-1797083-2161657#\", \"thread-topic\": \"Re: Returns and Exchanges #1135990-1797083-2161657#\", \"thread-index\": \"AQHWOdOlLLQZVlWNTUK6EXGfCHPOp6jHQW8AgAEq1hCAAAJSsIAAAZIAgAAC//A=\", \"date\": \"06/04/2020\", \"message-id\": \"YTBPR01MB3648F727B6F532112FC39567FC890@YTBPR01MB3648.CANPRD01.PROD.OUTLOOK.COM\", \"in-reply-to\": \"002201d63a71$e9201e40$bb605ac0$@marathonsalesint.com\"}\n",
      "\n",
      "********************************************&&********************************************************\n",
      "\n",
      "{\"to_be_indexed\": true, \"from\": [\"Magtina.Kwok@cantire.com\"], \"from_name\": [\"Magtina Kwok\"], \"to\": [\"janice.lai@polygroup.com\", \"Ophelia.Ma@cantire.com\", \"amber.chen@polygroup.com\"], \"to_name\": [\"Janice Lai\", \"Ophelia Ma\", \"Amber Chen\"], \"cc\": [\"elmer.cheng@polygroup.com\", \"ambrose.siu@cantire.com\", \"erin.he@polygroup.com\", \"paul.olsen@polygroup.com\"], \"cc_name\": [\"Elmer Cheng\", \"Ambrose Siu\", \"Erin He\", \"Paul Olsen\"], \"subject\": \"RE: RE: New Product Line from Polygroup 2021\", \"thread-topic\": \"RE: New Product Line from Polygroup 2021\", \"thread-index\": \"AQHWMxGz+dE1Y55tNEqRm/1vTlN/2Ki5vY7AgAGjKoCACs3FYIAAk+yAgAEBU5CAAaicQIAACgQAgAAls5CAABCOgIAAAImAgAAK8ICAAABxkIAABMUAgAAAmQCAAAWDAIAACahQgAAGe4CAAAC9IIABAPOAgAN4axA=\", \"date\": \"06/08/2020\", \"message-id\": \"YTBPR01MB283029E3A30A6DE615C013109C850@YTBPR01MB2830.CANPRD01.PROD.OUTLOOK.COM\", \"in-reply-to\": \"32ffb30f7ccf680b78e6cadd711635d1@polygroup.com\"}\n",
      "\n",
      "{\"to_be_indexed\": true, \"from\": [\"janice.lai@polygroup.com\"], \"from_name\": [\"Janice Lai\"], \"to\": [\"Magtina.Kwok@cantire.com\", \"amber.chen@polygroup.com\"], \"to_name\": [\"'Magtina Kwok'\", \"'Amber Chen'\"], \"cc\": [\"Paul.olsen@polygroup.com\", \"erin.he@polygroup.com\", \"ambrose.siu@cantire.com\", \"Ophelia.Ma@cantire.com\", \"elmer.cheng@polygroup.com\"], \"cc_name\": [\"'Paul Olsen'\", \"'Erin He'\", \"'Ambrose Siu'\", \"'Ophelia Ma'\", \"'Elmer Cheng'\"], \"in-reply-to\": \"YTBPR01MB2830F354DB56275860ABB70C9C860@YTBPR01MB2830.CANPRD01.PROD.OUTLOOK.COM\", \"subject\": \"RE: New Product Line from Polygroup 2021\", \"date\": \"06/05/2020\", \"message-id\": \"00a001d63b11$b826ed50$2874c7f0$@polygroup.com\", \"thread-index\": \"AQJkoUA75V8F6QJEQ13hqgtkLY3Z1wHJZtNSAhjjnuQCHsNtkwG6pznCAThEDlwCF+jK6AMhgd2lAnNcCsIC5XCeGQDyLoiiAYFhs7Km/RCFEA==\"}\n",
      "\n",
      "********************************************&&********************************************************\n",
      "\n",
      "{\"to_be_indexed\": true, \"from\": [\"Magtina.Kwok@cantire.com\"], \"from_name\": [\"Magtina Kwok\"], \"to\": [\"janice.lai@polygroup.com\", \"Ophelia.Ma@cantire.com\", \"amber.chen@polygroup.com\"], \"to_name\": [\"Janice Lai\", \"Ophelia Ma\", \"Amber Chen\"], \"cc\": [\"elmer.cheng@polygroup.com\", \"ambrose.siu@cantire.com\", \"erin.he@polygroup.com\", \"paul.olsen@polygroup.com\"], \"cc_name\": [\"Elmer Cheng\", \"Ambrose Siu\", \"Erin He\", \"Paul Olsen\"], \"subject\": \"RE: RE: New Product Line from Polygroup 2021\", \"thread-topic\": \"RE: New Product Line from Polygroup 2021\", \"thread-index\": \"AQHWMxGz+dE1Y55tNEqRm/1vTlN/2Ki5vY7AgAGjKoCACs3FYIAAk+yAgAEBU5CAAaicQIAACgQAgAAls5CAABCOgIAAAImAgAAK8ICAAABxkIAABMUAgAAAmQCAAAWDAIAACahQgAAGe4CAAAC9IIABAPOAgAN4axA=\", \"date\": \"06/08/2020\", \"message-id\": \"YTBPR01MB283029E3A30A6DE615C013109C850@YTBPR01MB2830.CANPRD01.PROD.OUTLOOK.COM\", \"in-reply-to\": \"32ffb30f7ccf680b78e6cadd711635d1@polygroup.com\"}\n",
      "\n",
      "{\"to_be_indexed\": true, \"from\": [\"Magtina.Kwok@cantire.com\"], \"from_name\": [\"Magtina Kwok\"], \"to\": [\"janice.lai@polygroup.com\", \"amber.chen@polygroup.com\"], \"to_name\": [\"Janice Lai\", \"'Amber Chen'\"], \"cc\": [\"Paul.olsen@polygroup.com\", \"erin.he@polygroup.com\", \"ambrose.siu@cantire.com\", \"Ophelia.Ma@cantire.com\", \"elmer.cheng@polygroup.com\"], \"cc_name\": [\"'Paul Olsen'\", \"'Erin He'\", \"Ambrose Siu\", \"Ophelia Ma\", \"'Elmer Cheng'\"], \"subject\": \"RE: New Product Line from Polygroup 2021\", \"thread-topic\": \"New Product Line from Polygroup 2021\", \"thread-index\": \"AQHWMxGz+dE1Y55tNEqRm/1vTlN/2Ki5vY7AgAGjKoCACs3FYIAAk+yAgAEBU5CAAaicQIAACgQAgAAls5CAABCOgIAAAImAgAAK8ICAAABxkIAABMUAgAAAmQCAAAWDAIAACahQ\", \"date\": \"06/05/2020\", \"message-id\": \"YTBPR01MB2830454EE51C038433C7EFE39C860@YTBPR01MB2830.CANPRD01.PROD.OUTLOOK.COM\", \"in-reply-to\": \"000201d63b14$c67947b0$536bd710$@polygroup.com\"}\n",
      "\n",
      "********************************************&&********************************************************\n",
      "\n",
      "{\"to_be_indexed\": true, \"from\": [\"Kale.Cranston@fglsports.com\"], \"from_name\": [\"Kale Cranston\"], \"to\": [\"Stephane.Leduc@fglsports.com\"], \"to_name\": [\"Stephane Leduc\"], \"cc\": [\"Maxime.Lachance@fglsports.com\"], \"cc_name\": [\"Maxime Lachance\"], \"subject\": \"TR: offre Road\", \"thread-topic\": \"offre Road\", \"thread-index\": \"AdY4zzlz0OY3/4F1T/KFMijOGkat4AAOSlNQAD6K84AABJeGoAAYsB3A\", \"date\": \"06/04/2020\", \"message-id\": \"QB1PR01MB398705DA80300D8A8A8E1384F4890@QB1PR01MB3987.CANPRD01.PROD.OUTLOOK.COM\", \"in-reply-to\": \"YQXPR01MB368726ABC5FDC85E13A42F46F5890@YQXPR01MB3687.CANPRD01.PROD.OUTLOOK.COM\"}\n",
      "\n",
      "{\"to_be_indexed\": true, \"from\": [\"Maxime.Lachance@fglsports.com\"], \"from_name\": [\"Maxime Lachance\"], \"to\": [\"Kale.Cranston@fglsports.com\"], \"to_name\": [\"Kale Cranston\"], \"subject\": \"TR: offre Road\", \"thread-topic\": \"offre Road\", \"thread-index\": \"AdY4zzlz0OY3/4F1T/KFMijOGkat4AAOSlNQAD6K84AABJeGoA==\", \"date\": \"06/04/2020\", \"message-id\": \"YQXPR01MB368726ABC5FDC85E13A42F46F5890@YQXPR01MB3687.CANPRD01.PROD.OUTLOOK.COM\", \"in-reply-to\": \"042601d63a02$8f689630$ae39c290$@beaulieudore.ca\"}\n",
      "\n",
      "********************************************&&********************************************************\n",
      "\n",
      "{\"to_be_indexed\": true, \"from\": [\"FLEXBilling@cantire.com\"], \"from_name\": [\"FLEX Billing\"], \"to\": [\"Andrea.DSouza@cantire.com\"], \"to_name\": [\"Andrea D'Souza\"], \"subject\": \"FW: Invoice 4766 from Van der Meer Greenhouses Ltd.\", \"thread-topic\": \"Invoice 4766 from Van der Meer Greenhouses Ltd.\", \"thread-index\": \"AQHWOhf/wW25f0LCqEaOV2vCbJVH96jITHkggAAKOcA=\", \"date\": \"06/04/2020\", \"message-id\": \"YT1PR01MB2891ACCD1BBE3C8EBDEC4EF0F0890@YT1PR01MB2891.CANPRD01.PROD.OUTLOOK.COM\", \"in-reply-to\": \"YQXPR01MB3576481B5146AE358F275DF08A890@YQXPR01MB3576.CANPRD01.PROD.OUTLOOK.COM\"}\n",
      "\n",
      "{\"to_be_indexed\": true, \"from\": [\"FLEXBilling@cantire.com\"], \"from_name\": [\"FLEX Billing\"], \"to\": [\"Andrea.DSouza@cantire.com\"], \"to_name\": [\"Andrea D'Souza\"], \"subject\": \"FW: Invoice 4773 from Van der Meer Greenhouses Ltd.\", \"thread-topic\": \"Invoice 4773 from Van der Meer Greenhouses Ltd.\", \"thread-index\": \"AQHWOhgYswBnrYU01E+zyeNQ6jlPL6jITF/ggAAKdnA=\", \"date\": \"06/04/2020\", \"message-id\": \"YT1PR01MB2891711345B3B66F1D1589F1F0890@YT1PR01MB2891.CANPRD01.PROD.OUTLOOK.COM\", \"in-reply-to\": \"YQXPR01MB35767D695A5AC4D71B3838228A890@YQXPR01MB3576.CANPRD01.PROD.OUTLOOK.COM\"}\n",
      "\n",
      "********************************************&&********************************************************\n",
      "\n",
      "{\"to_be_indexed\": true, \"from\": [\"abernard@poolmaster.com\"], \"from_name\": [\"Andrea Bernard\"], \"to\": [\"Francesca.Spalvieri@cantire.com\"], \"to_name\": [\"Francesca Spalvieri\"], \"subject\": \"Re: Poolmaster 2020 support opportunity\", \"thread-topic\": \"Poolmaster 2020 support opportunity\", \"thread-index\": \"AdYp+VXdu1XLDLbdRWW0DiEq7yAn0wAFvVkQAAWporAABGIJsAApyx4QAKLELEAAHUKmUAAK0HvAAAKrFdAAAyFWgAAAI97AAFQ+7XACi530cAACEkga\", \"date\": \"06/03/2020\", \"message-id\": \"BY5PR13MB3256EE8954B2CD616248BC7CB8880@BY5PR13MB3256.namprd13.prod.outlook.com\", \"in-reply-to\": \"YTXPR0101MB12297B9CEEAB9EEEA2E1A893FE880@YTXPR0101MB1229.CANPRD01.PROD.OUTLOOK.COM\"}\n",
      "\n",
      "{\"to_be_indexed\": true, \"from\": [\"Francesca.Spalvieri@cantire.com\"], \"from_name\": [\"Francesca Spalvieri\"], \"to\": [\"abernard@poolmaster.com\"], \"to_name\": [\"Andrea Bernard\"], \"subject\": \"RE: Poolmaster 2020 support opportunity\", \"thread-topic\": \"Poolmaster 2020 support opportunity\", \"thread-index\": \"AdYp+VXdu1XLDLbdRWW0DiEq7yAn0wAFvVkQAAWporAABGIJsAApyx4QAKLELEAAHUKmUAAK0HvAAAKrFdAAAyFWgAAAI97AAFQ+7XACi530cA==\", \"date\": \"06/03/2020\", \"message-id\": \"YTXPR0101MB12297B9CEEAB9EEEA2E1A893FE880@YTXPR0101MB1229.CANPRD01.PROD.OUTLOOK.COM\", \"in-reply-to\": \"YTXPR0101MB122936E8E75B56377F2D18FEFEB70@YTXPR0101MB1229.CANPRD01.PROD.OUTLOOK.COM\"}\n",
      "\n",
      "********************************************&&********************************************************\n",
      "\n",
      "{\"to_be_indexed\": true, \"from\": [\"wendy.tseng@vastfocus.com.tw\"], \"from_name\": [\"vi-Wendy Tseng\"], \"to\": [\"Rachaelle.Rempe@inasports.com\", \"Clement.Lacroix@marks.com\", \"Sushmitha.Devajaran@inasports.com\"], \"to_name\": [\"Rachaelle Rempe\", \"Clement Lacroix\", \"Sushmitha Devarajan\"], \"cc\": [\"Amitava.Roy@cantire.com\", \"Annie.Fan2@cantire.com\", \"Jane.Zhu@cantire.com\", \"Pauline.Bao@cantire.com\", \"sandra.lee@vastfocus.com.tw\", \"vita.chang@vastfocus.com.tw\", \"may.huang@vastfocus.com.tw\", \"Harpreet.Heer@cantire.com\", \"Nicola.Kieran@inasports.com\", \"Ying.Sha@cantire.com\", \"jimmy.shen@vastfocus.com.tw\", \"Kathryn.Lukey@marks.com\", \"Katy.Wood@fglsports.com\", \"sandra.lee@vastfocus.com.tw\", \"vivian.huang@vastintl.com.tw\", \"vast@vastfocus.com.tw\"], \"cc_name\": [\"Amitava Roy\", \"Annie.Fan\", \"Jane Zhu\", \"Pauline Bao\", \"vi-Sandra Lee\", \"vi-Vita Chang\", \"vi-May Huang\", \"Harpreet Heer\", \"Nicola Kieran\", \"Ying Sha\", \"vi-Jimmy Shen\", \"Kathryn Lukey\", \"Katy Wood\", \"vi-Sandra Lee\", \"vi-Vivian Huang\", \"vi-Vast\"], \"subject\": \"S21 Mark's No Fly Zone price\", \"thread-topic\": \"S21 Mark's No Fly Zone price\", \"thread-index\": \"AdY5o+Xxxz0f8ItfS1iwW5MHfvGIdQ==\", \"date\": \"06/03/2020\", \"message-id\": \"4928f4e301c243e39f2911c4a0f46223@viexch01.vitradom.com.tw\"}\n",
      "\n",
      "{\"to_be_indexed\": true, \"from\": [\"wendy.tseng@vastfocus.com.tw\"], \"from_name\": [\"vi-Wendy Tseng\"], \"to\": [\"Rachaelle.Rempe@inasports.com\", \"Clement.Lacroix@marks.com\", \"Sushmitha.Devajaran@inasports.com\"], \"to_name\": [\"Rachaelle Rempe\", \"Clement Lacroix\", \"Sushmitha Devarajan\"], \"cc\": [\"Amitava.Roy@cantire.com\", \"Annie.Fan2@cantire.com\", \"Jane.Zhu@cantire.com\", \"Pauline.Bao@cantire.com\", \"sandra.lee@vastfocus.com.tw\", \"vita.chang@vastfocus.com.tw\", \"may.huang@vastfocus.com.tw\", \"Harpreet.Heer@cantire.com\", \"Nicola.Kieran@inasports.com\", \"Ying.Sha@cantire.com\", \"jimmy.shen@vastfocus.com.tw\", \"Kathryn.Lukey@marks.com\", \"Katy.Wood@fglsports.com\", \"vivian.huang@vastintl.com.tw\", \"vast@vastfocus.com.tw\"], \"cc_name\": [\"Amitava Roy\", \"Annie.Fan\", \"Jane Zhu\", \"Pauline Bao\", \"vi-Sandra Lee\", \"vi-Vita Chang\", \"vi-May Huang\", \"Harpreet Heer\", \"Nicola Kieran\", \"Ying Sha\", \"vi-Jimmy Shen\", \"Kathryn Lukey\", \"Katy Wood\", \"vi-Vivian Huang\", \"vi-Vast\"], \"subject\": \"S21 Mark's No Fly Zone ITP-06/04/2020\", \"thread-topic\": \"S21 Mark's No Fly Zone ITP-06/04/2020\", \"thread-index\": \"AdY9gzSMvZh7BjT4SFCnUs8jAoVk4Q==\", \"date\": \"06/08/2020\", \"message-id\": \"9de9c128b8974301b4399e5e7db202d6@viexch01.vitradom.com.tw\"}\n",
      "\n",
      "********************************************&&********************************************************\n",
      "\n",
      "{\"to_be_indexed\": true, \"from\": [\"andy.bugelli@taxi.ca\"], \"from_name\": [\"Andy Bugelli\"], \"to\": [\"Jonathan.Anderson@cantire.com\", \"Afton.Franklin@taxi.ca\", \"Taylor.Ivey@taxi.ca\"], \"to_name\": [\"Jonathan Anderson\", \"Afton Franklin\", \"Taylor Ivey\"], \"cc\": [\"Jess.Wu@cantire.com\", \"Laura.Gowling@cantire.com\"], \"cc_name\": [\"Jessica Wu\", \"Laura Gowling\"], \"subject\": \"Re: Summer campaign / need to remove Thermacell...\", \"thread-topic\": \"Summer campaign / need to remove Thermacell...\", \"thread-index\": \"AQHWOsnrPVww0KOZqE+DwxiFY0foh6jJqZMAgABOXTD//8HvAA==\", \"date\": \"06/05/2020\", \"message-id\": \"65F951CE-D77E-4BE1-892B-7096BED17ADE@taxi.ca\", \"in-reply-to\": \"YTXPR0101MB12932E3CF69B8288E0BCEBC3EA860@YTXPR0101MB1293.CANPRD01.PROD.OUTLOOK.COM\"}\n",
      "\n",
      "{\"to_be_indexed\": true, \"from\": [\"andy.bugelli@taxi.ca\"], \"from_name\": [\"Andy Bugelli\"], \"to\": [\"Jonathan.Anderson@cantire.com\", \"Afton.Franklin@taxi.ca\", \"Taylor.Ivey@taxi.ca\"], \"to_name\": [\"Jonathan Anderson\", \"Afton Franklin\", \"Taylor Ivey\"], \"cc\": [\"Jess.Wu@cantire.com\", \"Laura.Gowling@cantire.com\"], \"cc_name\": [\"Jessica Wu\", \"Laura Gowling\"], \"subject\": \"Re: Summer campaign / need to remove Thermacell...\", \"thread-topic\": \"Summer campaign / need to remove Thermacell...\", \"thread-index\": \"AQHWOsnrPVww0KOZqE+DwxiFY0foh6jJqZMA\", \"date\": \"06/05/2020\", \"message-id\": \"15FB2CE7-D78D-4C6F-BA00-5AFC6ABC1EA6@taxi.ca\", \"in-reply-to\": \"YTXPR0101MB12939A80C00D1578F81F3095EA890@YTXPR0101MB1293.CANPRD01.PROD.OUTLOOK.COM\"}\n",
      "\n",
      "********************************************&&********************************************************\n",
      "\n",
      "{\"to_be_indexed\": true, \"from\": [\"Nurin.Thawer@cantire.com\"], \"from_name\": [\"Nurin Thawer\"], \"to\": [\"Jody.Charlebois@cantire.com\"], \"to_name\": [\"Jody Charlebois\"], \"subject\": \"RE: dealer lists\", \"thread-topic\": \"dealer lists\", \"thread-index\": \"AdY5M1RgYqp8MaBBRgiJmtkcdcGikgAY0XAAAAE7GKQAA+TnIA==\", \"date\": \"06/03/2020\", \"message-id\": \"YT1PR01MB2569E6FC5838DEBF8FCAE8C38E880@YT1PR01MB2569.CANPRD01.PROD.OUTLOOK.COM\", \"in-reply-to\": \"YTOPR0101MB1292545C85DC14329FBA7242E3880@YTOPR0101MB1292.CANPRD01.PROD.OUTLOOK.COM\"}\n",
      "\n",
      "{\"to_be_indexed\": true, \"from\": [\"Nurin.Thawer@cantire.com\"], \"from_name\": [\"Nurin Thawer\"], \"to\": [\"Jody.Charlebois@cantire.com\"], \"to_name\": [\"Jody Charlebois\"], \"subject\": \"RE: dealer lists\", \"thread-topic\": \"dealer lists\", \"thread-index\": \"AdY5M1RgYqp8MaBBRgiJmtkcdcGikgAY0XAA\", \"date\": \"06/03/2020\", \"message-id\": \"YT1PR01MB2569CF9DE2EE767FF0949F428E880@YT1PR01MB2569.CANPRD01.PROD.OUTLOOK.COM\", \"in-reply-to\": \"YTOPR0101MB1292441352E420DFEEDF828DE38B0@YTOPR0101MB1292.CANPRD01.PROD.OUTLOOK.COM\"}\n",
      "\n",
      "********************************************&&********************************************************\n",
      "\n",
      "{\"to_be_indexed\": true, \"from\": [\"Nurin.Thawer@cantire.com\"], \"from_name\": [\"Nurin Thawer\"], \"to\": [\"Jody.Charlebois@cantire.com\"], \"to_name\": [\"Jody Charlebois\"], \"subject\": \"RE: dealer lists\", \"thread-topic\": \"dealer lists\", \"thread-index\": \"AdY5M1RgYqp8MaBBRgiJmtkcdcGikgAY0XAAAAE7GKQAA+TnIA==\", \"date\": \"06/03/2020\", \"message-id\": \"YT1PR01MB2569E6FC5838DEBF8FCAE8C38E880@YT1PR01MB2569.CANPRD01.PROD.OUTLOOK.COM\", \"in-reply-to\": \"YTOPR0101MB1292545C85DC14329FBA7242E3880@YTOPR0101MB1292.CANPRD01.PROD.OUTLOOK.COM\"}\n",
      "\n",
      "{\"to_be_indexed\": true, \"from\": [\"Jody.Charlebois@cantire.com\"], \"from_name\": [\"Jody Charlebois\"], \"to\": [\"Brad.Drew@cantire.com\", \"Daniel.Tinkler@cantire.com\"], \"to_name\": [\"Brad Drew\", \"Dan Tinkler\"], \"cc\": [\"Nurin.Thawer@cantire.com\"], \"cc_name\": [\"Nurin Thawer\"], \"subject\": \"RE: Point meeting\", \"thread-topic\": \"Point meeting\", \"thread-index\": \"AdY5xgeXG60B5x0ORx6hymHKMWkQpAABv9zAAAHmRbAAAC/PQAAAHvIA\", \"date\": \"2020/06/03 18:37:28\", \"message-id\": \"YTOPR0101MB129263AD29D0D14EC0A108CAE3880@YTOPR0101MB1292.CANPRD01.PROD.OUTLOOK.COM\", \"in-reply-to\": \"YT1PR01MB3834918D08AA5D0805379E3DEC880@YT1PR01MB3834.CANPRD01.PROD.OUTLOOK.COM\"}\n",
      "\n",
      "********************************************&&********************************************************\n",
      "\n",
      "{\"to_be_indexed\": true, \"from\": [\"Patrick.Tallon@cantire.com\"], \"from_name\": [\"Patrick Tallon\"], \"to\": [\"Francesca.Spalvieri@cantire.com\"], \"to_name\": [\"Francesca Spalvieri\"], \"subject\": \"RE: CBM PPK Review - Provide input by June 3rd at Noon\", \"thread-topic\": \"CBM PPK Review - Provide input by June 3rd at Noon\", \"thread-index\": \"AdY4Tz5veGj8nzs9S6K5Xr0NDoDL1QA9dP/wABlTICA=\", \"date\": \"06/03/2020\", \"message-id\": \"YTOPR0101MB1593C75C7D308FA8585983299F880@YTOPR0101MB1593.CANPRD01.PROD.OUTLOOK.COM\", \"in-reply-to\": \"YTXPR0101MB12292CF7AB978A31E60FF8F2FE880@YTXPR0101MB1229.CANPRD01.PROD.OUTLOOK.COM\"}\n",
      "\n",
      "{\"to_be_indexed\": true, \"from\": [\"Timothy.Lewis@cantire.com\"], \"from_name\": [\"Timothy Lewis\"], \"to\": [\"Francesca.Spalvieri@cantire.com\"], \"to_name\": [\"Francesca Spalvieri\"], \"subject\": \"RE: prepacks 06012020.xlsx\", \"thread-topic\": \"prepacks 06012020.xlsx\", \"thread-index\": \"AdY4Y2CG0+Ei2m/BTO+b47LN+d4iJAA4GEOgABk6qMA=\", \"date\": \"06/03/2020\", \"message-id\": \"YTOPR0101MB201147F25A993FC2FFCB3B31E3880@YTOPR0101MB2011.CANPRD01.PROD.OUTLOOK.COM\", \"in-reply-to\": \"YTXPR0101MB1229DCFC83D19D5C40E14C1AFE880@YTXPR0101MB1229.CANPRD01.PROD.OUTLOOK.COM\"}\n",
      "\n",
      "********************************************&&********************************************************\n",
      "\n",
      "{\"to_be_indexed\": true, \"from\": [\"Patrick.Tallon@cantire.com\"], \"from_name\": [\"Patrick Tallon\"], \"to\": [\"Francesca.Spalvieri@cantire.com\"], \"to_name\": [\"Francesca Spalvieri\"], \"subject\": \"RE: CBM PPK Review - Provide input by June 3rd at Noon\", \"thread-topic\": \"CBM PPK Review - Provide input by June 3rd at Noon\", \"thread-index\": \"AdY4Tz5veGj8nzs9S6K5Xr0NDoDL1QA9dP/wABlTICA=\", \"date\": \"06/03/2020\", \"message-id\": \"YTOPR0101MB1593C75C7D308FA8585983299F880@YTOPR0101MB1593.CANPRD01.PROD.OUTLOOK.COM\", \"in-reply-to\": \"YTXPR0101MB12292CF7AB978A31E60FF8F2FE880@YTXPR0101MB1229.CANPRD01.PROD.OUTLOOK.COM\"}\n",
      "\n",
      "{\"to_be_indexed\": true, \"from\": [\"Christie.Corbin@cantire.com\"], \"from_name\": [\"Christie Corbin\"], \"to\": [\"Francesca.Spalvieri@cantire.com\"], \"to_name\": [\"Francesca Spalvieri\"], \"subject\": \"RE: CBM PPK Review - Provide input by June 3rd at Noon\", \"thread-topic\": \"CBM PPK Review - Provide input by June 3rd at Noon\", \"thread-index\": \"AdY4Tz5veGj8nzs9S6K5Xr0NDoDL1QBWexfA\", \"date\": \"06/03/2020\", \"message-id\": \"YTBPR01MB24781621335D333C6F691C70FD880@YTBPR01MB2478.CANPRD01.PROD.OUTLOOK.COM\", \"in-reply-to\": \"YTXPR0101MB1229AFCC1F58B980500B976AFE8A0@YTXPR0101MB1229.CANPRD01.PROD.OUTLOOK.COM\"}\n",
      "\n",
      "********************************************&&********************************************************\n",
      "\n",
      "{\"to_be_indexed\": true, \"from\": [\"Patrick.Tallon@cantire.com\"], \"from_name\": [\"Patrick Tallon\"], \"to\": [\"Francesca.Spalvieri@cantire.com\"], \"to_name\": [\"Francesca Spalvieri\"], \"subject\": \"RE: CBM PPK Review - Provide input by June 3rd at Noon\", \"thread-topic\": \"CBM PPK Review - Provide input by June 3rd at Noon\", \"thread-index\": \"AdY4Tz5veGj8nzs9S6K5Xr0NDoDL1QA9dP/wABlTICA=\", \"date\": \"06/03/2020\", \"message-id\": \"YTOPR0101MB1593C75C7D308FA8585983299F880@YTOPR0101MB1593.CANPRD01.PROD.OUTLOOK.COM\", \"in-reply-to\": \"YTXPR0101MB12292CF7AB978A31E60FF8F2FE880@YTXPR0101MB1229.CANPRD01.PROD.OUTLOOK.COM\"}\n",
      "\n",
      "{\"to_be_indexed\": true, \"from\": [\"Sacha.Tierney@cantire.com\"], \"from_name\": [\"Sacha Tierney\"], \"to\": [\"Francesca.Spalvieri@cantire.com\"], \"to_name\": [\"Francesca Spalvieri\"], \"subject\": \"RE: CBM PPK Review - Provide input by June 3rd at Noon\", \"thread-topic\": \"CBM PPK Review - Provide input by June 3rd at Noon\", \"thread-index\": \"AdY4Tz5veGj8nzs9S6K5Xr0NDoDL1QA9dP/wABfEFqA=\", \"date\": \"06/03/2020\", \"message-id\": \"YTXPR0101MB2303279E1875F669EB1308FBFD880@YTXPR0101MB2303.CANPRD01.PROD.OUTLOOK.COM\", \"in-reply-to\": \"YTXPR0101MB12292CF7AB978A31E60FF8F2FE880@YTXPR0101MB1229.CANPRD01.PROD.OUTLOOK.COM\"}\n",
      "\n",
      "********************************************&&********************************************************\n",
      "\n",
      "{\"to_be_indexed\": true, \"from\": [\"Timothy.Lewis@cantire.com\"], \"from_name\": [\"Timothy Lewis\"], \"to\": [\"Francesca.Spalvieri@cantire.com\"], \"to_name\": [\"Francesca Spalvieri\"], \"subject\": \"RE: prepacks 06012020.xlsx\", \"thread-topic\": \"prepacks 06012020.xlsx\", \"thread-index\": \"AdY4Y2CG0+Ei2m/BTO+b47LN+d4iJAA4GEOgABk6qMA=\", \"date\": \"06/03/2020\", \"message-id\": \"YTOPR0101MB201147F25A993FC2FFCB3B31E3880@YTOPR0101MB2011.CANPRD01.PROD.OUTLOOK.COM\", \"in-reply-to\": \"YTXPR0101MB1229DCFC83D19D5C40E14C1AFE880@YTXPR0101MB1229.CANPRD01.PROD.OUTLOOK.COM\"}\n",
      "\n",
      "{\"to_be_indexed\": true, \"from\": [\"Christie.Corbin@cantire.com\"], \"from_name\": [\"Christie Corbin\"], \"to\": [\"Francesca.Spalvieri@cantire.com\"], \"to_name\": [\"Francesca Spalvieri\"], \"subject\": \"RE: CBM PPK Review - Provide input by June 3rd at Noon\", \"thread-topic\": \"CBM PPK Review - Provide input by June 3rd at Noon\", \"thread-index\": \"AdY4Tz5veGj8nzs9S6K5Xr0NDoDL1QBWexfA\", \"date\": \"06/03/2020\", \"message-id\": \"YTBPR01MB24781621335D333C6F691C70FD880@YTBPR01MB2478.CANPRD01.PROD.OUTLOOK.COM\", \"in-reply-to\": \"YTXPR0101MB1229AFCC1F58B980500B976AFE8A0@YTXPR0101MB1229.CANPRD01.PROD.OUTLOOK.COM\"}\n",
      "\n",
      "********************************************&&********************************************************\n",
      "\n",
      "{\"to_be_indexed\": true, \"from\": [\"Timothy.Lewis@cantire.com\"], \"from_name\": [\"Timothy Lewis\"], \"to\": [\"Francesca.Spalvieri@cantire.com\"], \"to_name\": [\"Francesca Spalvieri\"], \"subject\": \"RE: prepacks 06012020.xlsx\", \"thread-topic\": \"prepacks 06012020.xlsx\", \"thread-index\": \"AdY4Y2CG0+Ei2m/BTO+b47LN+d4iJAA4GEOgABk6qMA=\", \"date\": \"06/03/2020\", \"message-id\": \"YTOPR0101MB201147F25A993FC2FFCB3B31E3880@YTOPR0101MB2011.CANPRD01.PROD.OUTLOOK.COM\", \"in-reply-to\": \"YTXPR0101MB1229DCFC83D19D5C40E14C1AFE880@YTXPR0101MB1229.CANPRD01.PROD.OUTLOOK.COM\"}\n",
      "\n",
      "{\"to_be_indexed\": true, \"from\": [\"Sacha.Tierney@cantire.com\"], \"from_name\": [\"Sacha Tierney\"], \"to\": [\"Francesca.Spalvieri@cantire.com\"], \"to_name\": [\"Francesca Spalvieri\"], \"subject\": \"RE: CBM PPK Review - Provide input by June 3rd at Noon\", \"thread-topic\": \"CBM PPK Review - Provide input by June 3rd at Noon\", \"thread-index\": \"AdY4Tz5veGj8nzs9S6K5Xr0NDoDL1QA9dP/wABfEFqA=\", \"date\": \"06/03/2020\", \"message-id\": \"YTXPR0101MB2303279E1875F669EB1308FBFD880@YTXPR0101MB2303.CANPRD01.PROD.OUTLOOK.COM\", \"in-reply-to\": \"YTXPR0101MB12292CF7AB978A31E60FF8F2FE880@YTXPR0101MB1229.CANPRD01.PROD.OUTLOOK.COM\"}\n",
      "\n",
      "********************************************&&********************************************************\n",
      "\n",
      "{\"to_be_indexed\": true, \"from\": [\"nalini.dlg@dekkolegacy.com\"], \"from_name\": [\"Nalini\"], \"to\": [\"Sushmitha.Devajaran@inasports.com\", \"hemel@iocbd.com\"], \"to_name\": [\"'Sushmitha Devarajan'\", \"'Hemel'\"], \"cc\": [\"saleh.dlg@dekkolegacy.com\", \"Kiara.Rothert@fglsports.com\", \"Pervez.Kazi@cantire.com\", \"tarikul.dlg@dekkolegacy.com\"], \"cc_name\": [\"'Saleh Khondaker'\", \"'Kiara Rothert'\", \"'Pervez Kazi'\", \"'Tarikul Islam'\"], \"in-reply-to\": \"YTBPR01MB33444BC9068DFCEEAED997B4E0860@YTBPR01MB3344.CANPRD01.PROD.OUTLOOK.COM\", \"subject\": \"RE: 3D- 304 jogger\", \"date\": \"06/06/2020\", \"message-id\": \"012901d63bd6$d36378c0$7a2a6a40$@dekkolegacy.com\", \"thread-index\": \"AQGhlF8K1BHj+eavgDCTJFcjz2/6KQJEY6FKAinn9pICLYFYagGT09F+APZH4uMCfdC7WQH5LytjAJBi2XoCqNowxwHTp9bIqJ81RZA=\"}\n",
      "\n",
      "{\"to_be_indexed\": true, \"from\": [\"nalini.dlg@dekkolegacy.com\"], \"from_name\": [\"Nalini\"], \"to\": [\"hemel@iocbd.com\"], \"to_name\": [\"'Hemel'\"], \"cc\": [\"saleh.dlg@dekkolegacy.com\", \"Kiara.Rothert@fglsports.com\", \"Pervez.Kazi@cantire.com\", \"tarikul.dlg@dekkolegacy.com\", \"Sushmitha.Devajaran@inasports.com\"], \"cc_name\": [\"'Saleh Khondaker'\", \"'Kiara Rothert'\", \"'Pervez Kazi'\", \"'Tarikul Islam'\", \"'Sushmitha Devarajan'\"], \"in-reply-to\": \"YTBPR01MB33444803017D5359D06B72E1E08B0@YTBPR01MB3344.CANPRD01.PROD.OUTLOOK.COM\", \"subject\": \"RE: 3D- 304 jogger\", \"date\": \"06/03/2020\", \"message-id\": \"004a01d6394f$5ff464a0$1fdd2de0$@dekkolegacy.com\", \"thread-index\": \"AQGhlF8K1BHj+eavgDCTJFcjz2/6KQJEY6FKAinn9pICLYFYagGT09F+APZH4uMCfdC7WQH5LytjAJBi2XqovgtOAA==\"}\n",
      "\n",
      "********************************************&&********************************************************\n",
      "\n"
     ]
    }
   ],
   "source": [
    "for i,j in ind:\n",
    "    print(json.dumps(res['hits']['hits'][i]['_source']['metaData']))\n",
    "    print()\n",
    "    print(json.dumps(res['hits']['hits'][j]['_source']['metaData']))\n",
    "    print()\n",
    "    print(\"********************************************&&********************************************************\")\n",
    "    print()"
   ]
  },
  {
   "cell_type": "code",
   "execution_count": null,
   "id": "cf37c5bf",
   "metadata": {},
   "outputs": [],
   "source": []
  }
 ],
 "metadata": {
  "kernelspec": {
   "display_name": "Python 3 (ipykernel)",
   "language": "python",
   "name": "python3"
  },
  "language_info": {
   "codemirror_mode": {
    "name": "ipython",
    "version": 3
   },
   "file_extension": ".py",
   "mimetype": "text/x-python",
   "name": "python",
   "nbconvert_exporter": "python",
   "pygments_lexer": "ipython3",
   "version": "3.9.7"
  }
 },
 "nbformat": 4,
 "nbformat_minor": 5
}
